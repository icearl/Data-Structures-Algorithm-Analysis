{
 "cells": [
  {
   "cell_type": "markdown",
   "metadata": {},
   "source": [
    "#### 定义栈的数据结构，请在该类型中实现一个能够得到栈最小元素的min函数。"
   ]
  },
  {
   "cell_type": "code",
   "execution_count": 7,
   "metadata": {
    "collapsed": true
   },
   "outputs": [],
   "source": [
    "# -*- coding:utf-8 -*-\n",
    "class Solution:\n",
    "    def __init__(self):#初始化部分题里给的框架没有需要自己设置，额外定义一个存最小值的栈,这个栈中存储对应的正常的栈每一位对应经历过的最小值\n",
    "        self.stack = []\n",
    "        self.min_stack = []\n",
    "    def push(self, node): #如果存最小值的栈为空或者要压入的值比之前的最小值要小，则压入新的值；否则再压入一个之前的最小值。\n",
    "        # write code here\n",
    "        self.stack.append(node)\n",
    "        if (not self.min_stack) or node< self.min_stack[-1]:\n",
    "            self.min_stack.append(node)\n",
    "        else:\n",
    "            self.min_stack.append(self.min_stack[-1])\n",
    "    def pop(self): #弹出正常栈的值以及其对应的经历过的最小值\n",
    "        self.stack.pop()\n",
    "        self.min_stack.pop()\n",
    "    def top(self): #返回栈顶（最后一个压入栈的）\n",
    "        return self.stack[-1]\n",
    "    def min(self): #返回最小值\n",
    "        return self.min_stack[-1]"
   ]
  },
  {
   "cell_type": "code",
   "execution_count": null,
   "metadata": {
    "collapsed": true
   },
   "outputs": [],
   "source": [
    "class Solution:\n",
    "    def __init__(self):\n",
    "        self.stack = []\n",
    "        self.minstack = []\n",
    "    def push()"
   ]
  },
  {
   "cell_type": "markdown",
   "metadata": {},
   "source": [
    "定义除了正常存数据的栈之外定义一个存对应正常栈每一位上经历过的最小值的栈"
   ]
  },
  {
   "cell_type": "code",
   "execution_count": null,
   "metadata": {
    "collapsed": true
   },
   "outputs": [],
   "source": []
  },
  {
   "cell_type": "code",
   "execution_count": 3,
   "metadata": {
    "collapsed": true
   },
   "outputs": [],
   "source": [
    "# -*- coding:utf-8 -*-\n",
    "class Solution:\n",
    "    def __init__(self):#初始化部分题里给的框架没有需要自己设置，额外定义一个存最小值的栈\n",
    "        self.stack = []\n",
    "        self.min_stack = []\n",
    "    def push(self, node):\n",
    "        # write code here\n",
    "        self.stack.append(node)\n",
    "        if not self.min_stack or node <= self.min_stack[-1]:\n",
    "            self.min_stack.append(node)\n",
    "    def pop(self):\n",
    "        # write code here\n",
    "        if self.stack[-1] == self.min_stack[-1]:\n",
    "            self.min_stack.pop()\n",
    "        self.stack.pop()\n",
    "    def top(self):\n",
    "        # write code here\n",
    "        return self.stack[-1]\n",
    "    def min(self):\n",
    "        # write code here\n",
    "        return self.min_stack[-1]"
   ]
  }
 ],
 "metadata": {
  "kernelspec": {
   "display_name": "Python 2",
   "language": "python",
   "name": "python2"
  },
  "language_info": {
   "codemirror_mode": {
    "name": "ipython",
    "version": 2
   },
   "file_extension": ".py",
   "mimetype": "text/x-python",
   "name": "python",
   "nbconvert_exporter": "python",
   "pygments_lexer": "ipython2",
   "version": "2.7.13"
  }
 },
 "nbformat": 4,
 "nbformat_minor": 2
}
