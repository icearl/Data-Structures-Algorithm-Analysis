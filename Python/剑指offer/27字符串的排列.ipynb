{
 "cells": [
  {
   "cell_type": "markdown",
   "metadata": {},
   "source": [
    "#### 题目描述\n",
    "输入一个字符串,按字典序打印出该字符串中字符的所有排列。例如输入字符串abc,则打印出由字符a,b,c所能排列出来的所有字符串abc,acb,bac,bca,cab和cba。\n",
    "输入描述:\n",
    "输入一个字符串,长度不超过9(可能有字符重复),字符只包括大小写字母。"
   ]
  },
  {
   "cell_type": "code",
   "execution_count": 9,
   "metadata": {
    "collapsed": true
   },
   "outputs": [],
   "source": [
    "# -*- coding:utf-8 -*-\n",
    "class Solution:\n",
    "    def Permutation(self, ss):\n",
    "        # write code here\n",
    "        if not ss:\n",
    "            return []\n",
    "          \n",
    "        if len(ss)==1:\n",
    "            return [ss]\n",
    "          \n",
    "        else:\n",
    "            result=[]\n",
    "            a=ss[-1]\n",
    "            for i in self.Permutation(ss[:-1]): #递归调用，返回除了最后字符串一个值之外前面所有值可能的所有组合\n",
    "                for j in range(len(i)+1): #除了最后一个值的组合的长度\n",
    "                    result.append(i[:j]+a+i[j:])#将i在每个节点断开，插入a，注意这里合并的第三项是i(j:)，不是i(j+1:)\n",
    "                 \n",
    "            result=list(set(result))\n",
    "            result.sort()#先转成队列在排序\n",
    "            return result"
   ]
  },
  {
   "cell_type": "markdown",
   "metadata": {},
   "source": [
    "每次从序列的尾部拿出一个元素，将其插入到前面的元素所有组成的可能组成的组合中的s"
   ]
  }
 ],
 "metadata": {
  "kernelspec": {
   "display_name": "Python 2",
   "language": "python",
   "name": "python2"
  },
  "language_info": {
   "codemirror_mode": {
    "name": "ipython",
    "version": 2
   },
   "file_extension": ".py",
   "mimetype": "text/x-python",
   "name": "python",
   "nbconvert_exporter": "python",
   "pygments_lexer": "ipython2",
   "version": "2.7.13"
  }
 },
 "nbformat": 4,
 "nbformat_minor": 2
}
