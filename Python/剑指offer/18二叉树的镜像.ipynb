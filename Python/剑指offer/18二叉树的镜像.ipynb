{
 "cells": [
  {
   "cell_type": "markdown",
   "metadata": {},
   "source": [
    "操作给定的二叉树，将其变换为源二叉树的镜像。\n",
    "https://www.nowcoder.com/practice/564f4c26aa584921bc75623e48ca3011?tpId=13&tqId=11171&tPage=1&rp=1&ru=/ta/coding-interviews&qru=/ta/coding-interviews/question-ranking"
   ]
  },
  {
   "cell_type": "code",
   "execution_count": 1,
   "metadata": {
    "collapsed": true
   },
   "outputs": [],
   "source": [
    "# -*- coding:utf-8 -*-\n",
    "# class TreeNode:\n",
    "#     def __init__(self, x):\n",
    "#         self.val = x\n",
    "#         self.left = None\n",
    "#         self.right = None\n",
    "class Solution:\n",
    "    # 返回镜像树的根节点\n",
    "    def Mirror(self, root):\n",
    "        # write code here\n",
    "        # 要考虑到意外输入，为空怎么办\n",
    "        if root is None:\n",
    "            return None\n",
    "        if root.left is not None or root.right is not None:\n",
    "            root.left, root.right = root.right, root.left \n",
    "            #temp = root.left\n",
    "            #root.left = root.right\n",
    "            #root.right = temp\n",
    "        if root.left:\n",
    "            self.Mirror(root.left)\n",
    "        if root.right:\n",
    "            self.Mirror(root.right)\n",
    "        return root"
   ]
  },
  {
   "cell_type": "markdown",
   "metadata": {},
   "source": [
    "核心：交换所有非叶子结点的左右节点。\n",
    "\n",
    "如果root不为None才进行镜像变换，为空的话直接跳过判断中的流程直接返回\n",
    "注意由于之后要递归调用自身，不能在开头写如果root为none的话直接返回none，因为后面递归调用自身的时候会造成某个子树遇到尾节点然后直接返回none值\n",
    "\n",
    "注意这里每次交换左右的子节点时不光是交换子节点的值（.val），而是将其直接进行交换（.val,.left,.rigth）\n",
    "\n",
    "之后如果左右子节点不为空，则最其进行递归调用自身函数"
   ]
  }
 ],
 "metadata": {
  "kernelspec": {
   "display_name": "Python 3",
   "language": "python",
   "name": "python3"
  },
  "language_info": {
   "codemirror_mode": {
    "name": "ipython",
    "version": 3
   },
   "file_extension": ".py",
   "mimetype": "text/x-python",
   "name": "python",
   "nbconvert_exporter": "python",
   "pygments_lexer": "ipython3",
   "version": "3.6.4"
  }
 },
 "nbformat": 4,
 "nbformat_minor": 2
}
