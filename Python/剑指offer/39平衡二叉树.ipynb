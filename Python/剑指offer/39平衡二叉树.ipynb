{
 "cells": [
  {
   "cell_type": "markdown",
   "metadata": {},
   "source": [
    "输入一棵二叉树，判断该二叉树是否是平衡二叉树。"
   ]
  },
  {
   "cell_type": "code",
   "execution_count": 1,
   "metadata": {
    "collapsed": true
   },
   "outputs": [],
   "source": [
    "# -*- coding:utf-8 -*-\n",
    "# class TreeNode:\n",
    "#     def __init__(self, x):\n",
    "#         self.val = x\n",
    "#         self.left = None\n",
    "#         self.right = None\n",
    "class Solution:\n",
    "    def IsBalanced_Solution(self, pRoot):\n",
    "        # write code here\n",
    "        if pRoot == None:\n",
    "            return True\n",
    "        if abs(self.TreeDepth(pRoot.left)-self.TreeDepth(pRoot.right)) > 1:\n",
    "            return False\n",
    "        return self.IsBalanced_Solution(pRoot.left) and self.IsBalanced_Solution(pRoot.right)\n",
    "    \n",
    "    def TreeDepth(self, pRoot):\n",
    "        # write code here\n",
    "        if pRoot == None:\n",
    "            return 0\n",
    "        nLeft = self.TreeDepth(pRoot.left)\n",
    "        nRight = self.TreeDepth(pRoot.right)\n",
    "        return max(nLeft+1,nRight+1)#(nLeft+1 if nLeft > nRight else nRight +1)"
   ]
  },
  {
   "cell_type": "markdown",
   "metadata": {},
   "source": [
    "平衡二叉树（Self-balancing binary search tree）又被称为AVL树（有别于AVL算法），且具有以下性质：它是一 棵空树或它的左右两个子树的高度差的绝对值不超过1，并且左右两个子树都是一棵平衡二叉树。"
   ]
  },
  {
   "cell_type": "code",
   "execution_count": null,
   "metadata": {
    "collapsed": true
   },
   "outputs": [],
   "source": []
  }
 ],
 "metadata": {
  "kernelspec": {
   "display_name": "Python 2",
   "language": "python",
   "name": "python2"
  },
  "language_info": {
   "codemirror_mode": {
    "name": "ipython",
    "version": 2
   },
   "file_extension": ".py",
   "mimetype": "text/x-python",
   "name": "python",
   "nbconvert_exporter": "python",
   "pygments_lexer": "ipython2",
   "version": "2.7.13"
  }
 },
 "nbformat": 4,
 "nbformat_minor": 2
}
