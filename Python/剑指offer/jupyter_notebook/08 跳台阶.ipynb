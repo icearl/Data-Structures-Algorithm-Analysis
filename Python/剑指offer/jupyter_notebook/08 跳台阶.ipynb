{
 "cells": [
  {
   "cell_type": "markdown",
   "metadata": {},
   "source": [
    "#### 一只青蛙一次可以跳上1级台阶，也可以跳上2级。求该青蛙跳上一个n级的台阶总共有多少种跳法。"
   ]
  },
  {
   "cell_type": "code",
   "execution_count": 1,
   "metadata": {
    "collapsed": true
   },
   "outputs": [],
   "source": [
    "# -*- coding:utf-8 -*-\n",
    "class Solution:\n",
    "    def jumpFloor(self,number):\n",
    "        a=1\n",
    "        b=1\n",
    "        for i in range(number):\n",
    "            a,b = b,a+b\n",
    "            i+=1\n",
    "        return a"
   ]
  },
  {
   "cell_type": "markdown",
   "metadata": {},
   "source": [
    "#### 对于本题,前提只有从之前一次跳1阶或者2阶跳到当前台阶的跳法。  \n",
    "     a.假定上一次的位置在当前位置的下一阶，即上一次跳了一阶，那么到上一次的台阶的跳法是f(n-1);  \n",
    "     b.假定上一次的位置在当前位置的下两阶，即上一次跳了两阶，那么到上一次的台阶的跳法是f(n-2); \n",
    "     c.由a\\b假设可以得出总跳法为: f(n) = f(n-1) + f(n-2)   \n",
    "     d.然后通过实际的情况可以得出：只有一阶的时候 f(1) = 1 ,只有两阶的时候可以有 f(2) = 2  \n",
    "     e.可以发现最终得出的是一个斐波那契数列：  \n",
    "  \n",
    "            \n",
    "  \n",
    "  \n",
    "                  | 1, (n=1)  \n",
    "     f(n) =       | 2, (n=2)  \n",
    "                  | f(n-1)+f(n-2) ,(n>2,n为整数)\n",
    "    "
   ]
  }
 ],
 "metadata": {
  "kernelspec": {
   "display_name": "Python 2",
   "language": "python",
   "name": "python2"
  },
  "language_info": {
   "codemirror_mode": {
    "name": "ipython",
    "version": 2
   },
   "file_extension": ".py",
   "mimetype": "text/x-python",
   "name": "python",
   "nbconvert_exporter": "python",
   "pygments_lexer": "ipython2",
   "version": "2.7.13"
  }
 },
 "nbformat": 4,
 "nbformat_minor": 2
}
