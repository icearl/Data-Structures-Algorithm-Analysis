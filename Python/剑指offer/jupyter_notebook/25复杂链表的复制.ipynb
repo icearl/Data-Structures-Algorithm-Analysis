{
 "cells": [
  {
   "cell_type": "markdown",
   "metadata": {},
   "source": [
    "#####  输入一个复杂链表（每个节点中有节点值，以及两个指针，一个指向下一个节点，另一个特殊指针指向任意一个节点），返回结果为复制后复杂链表的head。（注意，输出结果中请不要返回参数中的节点引用，否则判题程序会直接返回空）"
   ]
  },
  {
   "cell_type": "code",
   "execution_count": 3,
   "metadata": {
    "collapsed": true
   },
   "outputs": [],
   "source": [
    "# -*- coding:utf-8 -*-\n",
    "# class RandomListNode:\n",
    "#     def __init__(self, x):\n",
    "#         self.label = x #定义节点的值为label，非.val\n",
    "#         self.next = None\n",
    "#         self.random = None\n",
    "class Solution:\n",
    "    # 返回 RandomListNode\n",
    "    def Clone(self, pHead):\n",
    "        # write code here\n",
    "        if pHead is None: #定义的函数是将链表中当前pHead节点的.label(值)，.netx指针，.random指针复制给p节点\n",
    "            return None\n",
    "        # 把引用变成实例化\n",
    "        p = RandomListNode(pHead.label) #将p定义为RandomListNode的节点，并且设定其.label属性的取值\n",
    "        #定义一个类的结构时用 x = Classname()\n",
    "        p.next = pHead.next #定义p的.next和.random属性的取值\n",
    "        p.random = pHead.random\n",
    "         \n",
    "        p.next  = self.Clone(pHead.next) #对p节点向下递归调用\n",
    "         \n",
    "        return p"
   ]
  },
  {
   "cell_type": "markdown",
   "metadata": {
    "collapsed": true
   },
   "source": [
    "类的实例化：\n",
    "\n",
    "创建实例对象\n",
    "\n",
    "实例化类其他编程语言中一般用关键字 new，但是在 Python 中并没有这个关键字，类的实例化类似函数调用方式。\n",
    "\n",
    "以下使用类的名称 Employee 来实例化，并通过 __init__ 方法接受参数。\n",
    "\n",
    "\"创建 Employee 类的第一个对象\"\n",
    "\n",
    "emp1 = Employee(\"Zara\", 2000)\n",
    "\n",
    "\"创建 Employee 类的第二个对象\"\n",
    "\n",
    "emp2 = Employee(\"Manni\", 5000)"
   ]
  }
 ],
 "metadata": {
  "kernelspec": {
   "display_name": "Python 3",
   "language": "python",
   "name": "python3"
  },
  "language_info": {
   "codemirror_mode": {
    "name": "ipython",
    "version": 3
   },
   "file_extension": ".py",
   "mimetype": "text/x-python",
   "name": "python",
   "nbconvert_exporter": "python",
   "pygments_lexer": "ipython3",
   "version": "3.6.4"
  }
 },
 "nbformat": 4,
 "nbformat_minor": 2
}
