{
 "cells": [
  {
   "cell_type": "markdown",
   "metadata": {},
   "source": [
    "#### 从上到下按层打印二叉树，同一层结点从左至右输出。每一层输出一行。"
   ]
  },
  {
   "cell_type": "code",
   "execution_count": 2,
   "metadata": {
    "collapsed": true
   },
   "outputs": [],
   "source": [
    "# -*- coding:utf-8 -*-\n",
    "# class TreeNode:\n",
    "#     def __init__(self, x):\n",
    "#         self.val = x\n",
    "#         self.left = None\n",
    "#         self.right = None\n",
    "class Solution:\n",
    "    def Print(self, pRoot):\n",
    "        # write code here\n",
    "        root=pRoot\n",
    "        if root is None: \n",
    "            return []\n",
    "        level=[root]\n",
    "        result=[]\n",
    "        lefttoright=False #判断奇偶行变量\n",
    "        while level !=[]: \n",
    "            cur_values=[] #本行的值的暂存列表\n",
    "            nextlevel=[]  #下一行的节点的暂存列表\n",
    "            for i in level:\n",
    "                cur_values.append(i.val)\n",
    "                if i.left is not None:\n",
    "                    nextlevel.append(i.left)\n",
    "                if i.right is not None:\n",
    "                    nextlevel.append(i.right)\n",
    "            if lefttoright:\n",
    "                cur_values.reverse()\n",
    "            if cur_values != []:\n",
    "                result.append(cur_values)\n",
    "            level = nextlevel\n",
    "            lefttoright = not lefttoright\n",
    "        return result"
   ]
  },
  {
   "cell_type": "markdown",
   "metadata": {},
   "source": [
    "设置一个变量来区别偶数行和奇数行，每次将各行先存储在一个列表中，然后根据奇偶判断变量来决定是否将列表翻转，之后后挂到输出列表中"
   ]
  }
 ],
 "metadata": {
  "kernelspec": {
   "display_name": "Python 3",
   "language": "python",
   "name": "python3"
  },
  "language_info": {
   "codemirror_mode": {
    "name": "ipython",
    "version": 3
   },
   "file_extension": ".py",
   "mimetype": "text/x-python",
   "name": "python",
   "nbconvert_exporter": "python",
   "pygments_lexer": "ipython3",
   "version": "3.6.4"
  }
 },
 "nbformat": 4,
 "nbformat_minor": 2
}
