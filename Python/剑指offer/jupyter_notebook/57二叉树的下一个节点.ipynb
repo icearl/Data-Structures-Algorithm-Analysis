{
 "cells": [
  {
   "cell_type": "markdown",
   "metadata": {},
   "source": [
    "#### 给定一个二叉树和其中的一个结点，请找出中序遍历顺序的下一个结点并且返回。注意，树中的结点不仅包含左右子结点，同时包含指向父结点的指针。"
   ]
  },
  {
   "cell_type": "code",
   "execution_count": 5,
   "metadata": {
    "collapsed": true
   },
   "outputs": [],
   "source": [
    "# -*- coding:utf-8 -*-\n",
    "# class TreeLinkNode:\n",
    "#     def __init__(self, x):\n",
    "#         self.val = x\n",
    "#         self.left = None\n",
    "#         self.right = None\n",
    "#         self.next = None #.next属性代表当前节点的父节点\n",
    "class Solution:\n",
    "    def GetNext(self, pNode):\n",
    "        # write code here\n",
    "        if not pNode:\n",
    "            return pNode\n",
    "        if pNode.right:\n",
    "            left1=pNode.right\n",
    "            while left1.left:\n",
    "                   left1=left1.left\n",
    "            return left1\n",
    "        while pNode.next: #pNode节点的父节点\n",
    "            tmp=pNode.next\n",
    "            if tmp.left==pNode:\n",
    "                return tmp\n",
    "            pNode=tmp"
   ]
  },
  {
   "cell_type": "markdown",
   "metadata": {},
   "source": [
    "链接：https://www.nowcoder.com/questionTerminal/9023a0c988684a53960365b889ceaf5e\n",
    "来源：牛客网\n",
    "\n",
    "思路：首先知道中序遍历的规则是：左根右，然后作图\n",
    "\n",
    "\n",
    "  \n",
    "    \n",
    "    \n",
    "  \n",
    "\n",
    "\n",
    "  结合图，我们可发现分成两大类：\n",
    "  \n",
    "  1、有右子树的（说明现在的位置为某个子数的根节点，即该子树遍历的中间位置），那么下个结点就是右子树最左边的点；（eg：D，B，E，A，C，G）\n",
    "    \n",
    "    \n",
    "  2、没有右子树的，也可以分成两类，\n",
    "  \n",
    "  a)是父节点左孩子（eg：N，I，L） （说明现在的位置是某个子树的左节点，即该子树遍历的初始位置），那么父节点就是下一个节点 ；\n",
    "  \n",
    "  b)是父节点的右孩子（eg：H，J，K，M）找他的父节点的父节点的父节点（说明现在的位置为某个子树的右节点，即该子树遍历的终止位置）...直到当前结点是其父节点的左孩子位置。如果没有eg：M，那么他就是尾节点。"
   ]
  }
 ],
 "metadata": {
  "kernelspec": {
   "display_name": "Python 2",
   "language": "python",
   "name": "python2"
  },
  "language_info": {
   "codemirror_mode": {
    "name": "ipython",
    "version": 2
   },
   "file_extension": ".py",
   "mimetype": "text/x-python",
   "name": "python",
   "nbconvert_exporter": "python",
   "pygments_lexer": "ipython2",
   "version": "2.7.13"
  }
 },
 "nbformat": 4,
 "nbformat_minor": 2
}
