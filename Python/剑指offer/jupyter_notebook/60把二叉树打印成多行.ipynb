{
 "cells": [
  {
   "cell_type": "markdown",
   "metadata": {},
   "source": [
    "#### 从上到下按层打印二叉树，同一层结点从左至右输出。每一层输出一行。"
   ]
  },
  {
   "cell_type": "code",
   "execution_count": 3,
   "metadata": {
    "collapsed": true
   },
   "outputs": [],
   "source": [
    "# -*- coding:utf-8 -*-\n",
    "# class TreeNode:\n",
    "#     def __init__(self, x):\n",
    "#         self.val = x\n",
    "#         self.left = None\n",
    "#         self.right = None\n",
    "class Solution:\n",
    "    # 返回二维列表[[1,2],[4,5]]\n",
    "    def Print(self, pRoot):\n",
    "        # write code here\n",
    "        if pRoot is None:\n",
    "            return []\n",
    "        res=[]\n",
    "        tmp=[pRoot]\n",
    "        while tmp != []:\n",
    "            size=len(tmp)\n",
    "            row=[] #每一行存在于一个列表中，之后将每一行对应的列表后挂到打的列表中\n",
    "            for i in tmp:\n",
    "                row.append(i.val)\n",
    "            res.append(row)\n",
    "            for i in range(size): #引入size的目的是保证pop出的节点个数为当前层节点的个数，不会受后面新挂入节点的影响\n",
    "                node=tmp.pop(0)\n",
    "                if node.left:\n",
    "                    tmp.append(node.left)\n",
    "                if node.right:\n",
    "                    tmp.append(node.right)\n",
    "        return res"
   ]
  },
  {
   "cell_type": "markdown",
   "metadata": {},
   "source": [
    "返回值为列表，期中每个项都是列表，各代表一行"
   ]
  }
 ],
 "metadata": {
  "kernelspec": {
   "display_name": "Python 3",
   "language": "python",
   "name": "python3"
  },
  "language_info": {
   "codemirror_mode": {
    "name": "ipython",
    "version": 3
   },
   "file_extension": ".py",
   "mimetype": "text/x-python",
   "name": "python",
   "nbconvert_exporter": "python",
   "pygments_lexer": "ipython3",
   "version": "3.6.4"
  }
 },
 "nbformat": 4,
 "nbformat_minor": 2
}
