{
 "cells": [
  {
   "cell_type": "code",
   "execution_count": 2,
   "metadata": {},
   "outputs": [],
   "source": [
    "def cut_rope(length):\n",
    "    \"\"\"\n",
    "    剪绳子问题，采用动态规划\n",
    "    \"\"\"\n",
    "    if length < 2:\n",
    "        return 0 #如果给的绳子小于2，没法剪，不符合题目要求，返回0\n",
    "    if length == 2:\n",
    "        return 1 #如果长度是2，还必须至少剪一刀，只能是1*1 =1\n",
    "    if length == 3:\n",
    "        return 2 #如果长度为3，只能是2*1 = 2 > 1*1*1 =1\n",
    "    products = [None] * 50\n",
    "    #products列表，放的是绳子长度最优的情况\n",
    "    products[0] = 0\n",
    "    products[1] = 1\n",
    "    products[2] = 2\n",
    "    products[3] = 3\n",
    "    \"\"\"\n",
    "    当length > 3时，不要对3进行剪开，因为无论怎么剪，都小于3本身\n",
    "    而大于3的绳子，剪开可能比本身大，或至少等于本身，3是一个底线\n",
    "    为什么要定义products[1] = 1和products[2] = 2？\n",
    "    因为：不可能绳子程度都是三的倍数，一定会需要1和2来保证相加起来等于绳子的长度。\n",
    "    \"\"\"\n",
    "    for i in range(4,length+1): #从长度为4的绳子开始\n",
    "        #求出从4到给出的绳子，每一个长度的最大乘积\n",
    "        max = 0\n",
    "        for j in range(1,i//2+1): #从1到i//2+1师因为4*6和6*4一样，当到了中间相同的数字，乘积结束后就可以\n",
    "            product = products[i] *products[i-j]\n",
    "            if max < product:\n",
    "                max = product\n",
    "            product[i] = max\n",
    "    max_product = products[length]\n",
    "    return max_product"
   ]
  },
  {
   "cell_type": "code",
   "execution_count": null,
   "metadata": {},
   "outputs": [],
   "source": []
  }
 ],
 "metadata": {
  "kernelspec": {
   "display_name": "Python 3",
   "language": "python",
   "name": "python3"
  },
  "language_info": {
   "codemirror_mode": {
    "name": "ipython",
    "version": 3
   },
   "file_extension": ".py",
   "mimetype": "text/x-python",
   "name": "python",
   "nbconvert_exporter": "python",
   "pygments_lexer": "ipython3",
   "version": "3.6.4"
  }
 },
 "nbformat": 4,
 "nbformat_minor": 1
}
