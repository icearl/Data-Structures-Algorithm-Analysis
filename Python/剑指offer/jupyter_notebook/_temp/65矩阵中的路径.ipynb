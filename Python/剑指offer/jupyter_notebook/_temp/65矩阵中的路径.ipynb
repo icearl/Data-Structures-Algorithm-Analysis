{
 "cells": [
  {
   "cell_type": "markdown",
   "metadata": {},
   "source": [
    "####  请设计一个函数，用来判断在一个矩阵中是否存在一条包含某字符串所有字符的路径。路径可以从矩阵中的任意一个格子开始，每一步可以在矩阵中向左，向右，向上，向下移动一个格子。如果一条路径经过了矩阵中的某一个格子，则该路径不能再进入该格子。 例如 a b c e s f c s a d e e 矩阵中包含一条字符串\"bcced\"的路径，但是矩阵中不包含\"abcb\"路径，因为字符串的第一个字符b占据了矩阵中的第一行第二个格子之后，路径不能再次进入该格子。"
   ]
  },
  {
   "cell_type": "code",
   "execution_count": 1,
   "metadata": {
    "collapsed": true
   },
   "outputs": [],
   "source": [
    "# -*- coding:utf-8 -*-\n",
    "class Solution:\n",
    "    def hasPath(self, matrix, rows, cols, path):\n",
    "        # write code here\n",
    "        for i in range(rows):\n",
    "            for j in range(cols):\n",
    "                # 任选一个格子作为路径的起点\n",
    "                if matrix[i * cols + j] == path[0]:\n",
    "                    if self.find(list(matrix), rows, cols, path[1:], i, j):\n",
    "                        return True\n",
    "        return False\n",
    "    \n",
    "    def find(self, matrix, rows, cols, path, i, j):\n",
    "        if path == '':    # 后面没有了\n",
    "            return True\n",
    "        matrix[i * cols + j] = '0'    # 走过这个点之后将其设为\"0\"\n",
    "        if j + 1 < cols and matrix[i * cols + j + 1] == path[0]:\n",
    "            return self.find(matrix, rows, cols, path[1:], i, j+1)\n",
    "        elif j - 1 >= 0 and matrix[i * cols + j - 1] == path[0]:\n",
    "            return self.find(matrix, rows, cols, path[1:], i, j - 1)\n",
    "        elif i + 1 < rows and matrix[(i + 1) * cols + j] == path[0]:\n",
    "            return self.find(matrix, rows, cols, path[1:], i + 1, j)\n",
    "        elif i - 1 >= 0 and matrix[(i - 1) * cols + j] == path[0]:\n",
    "            return self.find(matrix, rows, cols, path[1:], i - 1, j)\n",
    "        else:\n",
    "            return False"
   ]
  },
  {
   "cell_type": "code",
   "execution_count": null,
   "metadata": {
    "collapsed": true
   },
   "outputs": [],
   "source": []
  }
 ],
 "metadata": {
  "kernelspec": {
   "display_name": "Python 3",
   "language": "python",
   "name": "python3"
  },
  "language_info": {
   "codemirror_mode": {
    "name": "ipython",
    "version": 3
   },
   "file_extension": ".py",
   "mimetype": "text/x-python",
   "name": "python",
   "nbconvert_exporter": "python",
   "pygments_lexer": "ipython3",
   "version": "3.5.2"
  }
 },
 "nbformat": 4,
 "nbformat_minor": 2
}
