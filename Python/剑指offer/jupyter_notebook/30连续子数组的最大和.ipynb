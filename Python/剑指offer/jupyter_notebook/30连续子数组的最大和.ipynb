{
 "cells": [
  {
   "cell_type": "markdown",
   "metadata": {},
   "source": [
    "#### HZ偶尔会拿些专业问题来忽悠那些非计算机专业的同学。今天测试组开完会后,他又发话了:在古老的一维模式识别中,常常需要计算连续子向量的最大和,当向量全为正数的时候,问题很好解决。但是,如果向量中包含负数,是否应该包含某个负数,并期望旁边的正数会弥补它呢？例如:{6,-3,-2,7,-15,1,2,2},连续子向量的最大和为8(从第0个开始,到第3个为止)。你会不会被他忽悠住？(子向量的长度至少是1)"
   ]
  },
  {
   "cell_type": "code",
   "execution_count": 2,
   "metadata": {
    "collapsed": true
   },
   "outputs": [],
   "source": [
    "# -*- coding:utf-8 -*-\n",
    "class Solution:\n",
    "    def FindGreatestSumOfSubArray(self, array):\n",
    "        # write code here\n",
    "        max_sum, cur_sum = -0xffffff, 0 #max_sum取系统里最小的值\n",
    "        for i in array:\n",
    "            if cur_sum <= 0:\n",
    "                cur_sum = i\n",
    "            else:\n",
    "                cur_sum += i\n",
    "            if cur_sum > max_sum:\n",
    "                max_sum = cur_sum\n",
    "        return max_sum"
   ]
  },
  {
   "cell_type": "code",
   "execution_count": 1,
   "metadata": {},
   "outputs": [],
   "source": [
    "# 好理解的思路：\n",
    "def FindGreatestSumOfSubArray(self, array):\n",
    "    # write code here\n",
    "    if array is None or len(array) == 0:\n",
    "        return None\n",
    "    max_sum = array[0]\n",
    "    cur_sum = array[0]\n",
    "    for i in range(len(array)):\n",
    "        # 如果之前的和小于 0 或者是第一个输入，清除，添加\n",
    "        if i == 0 or cur_sum <= 0:\n",
    "            cur_sum = array[i] \n",
    "        # 如果之前的和大于 0,那就直接累加\n",
    "        else:\n",
    "            cur_sum += array[i]\n",
    "        # 保存目前最大和\n",
    "        if cur_sum > max_sum:\n",
    "            max_sum = cur_sum\n",
    "    return max_sum"
   ]
  },
  {
   "cell_type": "code",
   "execution_count": null,
   "metadata": {},
   "outputs": [],
   "source": []
  }
 ],
 "metadata": {
  "kernelspec": {
   "display_name": "Python 3",
   "language": "python",
   "name": "python3"
  },
  "language_info": {
   "codemirror_mode": {
    "name": "ipython",
    "version": 3
   },
   "file_extension": ".py",
   "mimetype": "text/x-python",
   "name": "python",
   "nbconvert_exporter": "python",
   "pygments_lexer": "ipython3",
   "version": "3.6.4"
  }
 },
 "nbformat": 4,
 "nbformat_minor": 2
}
