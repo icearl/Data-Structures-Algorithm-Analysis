{
 "cells": [
  {
   "cell_type": "markdown",
   "metadata": {},
   "source": [
    "#### 请实现一个函数用来找出字符流中第一个只出现一次的字符。例如，当从字符流中只读出前两个字符\"go\"时，第一个只出现一次的字符是\"g\"。当从该字符流中读出前六个字符“google\"时，第一个只出现一次的字符是\"l\"。\n",
    "输出描述:\n",
    "如果当前字符流没有存在出现一次的字符，返回#字符。"
   ]
  },
  {
   "cell_type": "code",
   "execution_count": 1,
   "metadata": {
    "collapsed": true
   },
   "outputs": [],
   "source": [
    "# -*- coding:utf-8 -*-\n",
    "class Solution:\n",
    "    # 返回对应char\n",
    "    def __init__(self):\n",
    "        self.s=''\n",
    "        self.dictionary={}\n",
    "    \n",
    "    def FirstAppearingOnce(self):\n",
    "        # write code here\n",
    "        for i in self.s:\n",
    "            if self.dictionary[i]==1:\n",
    "                return i\n",
    "        return '#'\n",
    "    \n",
    "    def Insert(self, char): \n",
    "        # write code here\n",
    "        self.s=self.s+char\n",
    "        if char in self.dictionary:\n",
    "            self.dictionary[char]=self.dictionary[char]+1\n",
    "        else:\n",
    "            self.dictionary[char]=1"
   ]
  },
  {
   "cell_type": "markdown",
   "metadata": {},
   "source": [
    "Insert也是要求定义的函数，起作用是改变self的.s和.dictionary属性的值\n",
    "\n",
    ".dictionary用来统计单词出现的次数，存储形式为字典、\n",
    "\n",
    "这道题不能用之前只出现一次数字的题的解法做，因为有可能有的字符出现3次或者以上奇数次"
   ]
  }
 ],
 "metadata": {
  "kernelspec": {
   "display_name": "Python 2",
   "language": "python",
   "name": "python2"
  },
  "language_info": {
   "codemirror_mode": {
    "name": "ipython",
    "version": 2
   },
   "file_extension": ".py",
   "mimetype": "text/x-python",
   "name": "python",
   "nbconvert_exporter": "python",
   "pygments_lexer": "ipython2",
   "version": "2.7.13"
  }
 },
 "nbformat": 4,
 "nbformat_minor": 2
}
