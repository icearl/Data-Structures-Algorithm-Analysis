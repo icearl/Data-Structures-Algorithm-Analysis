{
 "cells": [
  {
   "cell_type": "markdown",
   "metadata": {},
   "source": [
    "#### 输入一个链表，输出该链表中倒数第k个结点。"
   ]
  },
  {
   "cell_type": "code",
   "execution_count": 2,
   "metadata": {},
   "outputs": [],
   "source": [
    "# -*- coding:utf-8 -*-\n",
    "class ListNode:\n",
    "    def __init__(self, x):\n",
    "        self.val = x\n",
    "        self.next = None\n",
    "\n",
    "# 方法一：两次遍历\n",
    "class Solution:\n",
    "    def FindKthToTail(self, head, k):\n",
    "        # write code here\n",
    "        l = []\n",
    "        while head:\n",
    "            l.append(head)\n",
    "            head = head.next\n",
    "        if k>len(l) or k<1:\n",
    "            return None\n",
    "        return l[-k]"
   ]
  },
  {
   "cell_type": "code",
   "execution_count": 27,
   "metadata": {},
   "outputs": [],
   "source": [
    "# 方法二：快慢指针\n",
    "def FindKthToTail(head, k):\n",
    "    # write code here\n",
    "    # 例外输入情况：\n",
    "    if not head or k == 0:\n",
    "        return None\n",
    "    nil = ListNode(-1)\n",
    "    nil.next = head\n",
    "    pAhead = nil\n",
    "    pBehind = nil\n",
    "\n",
    "    for i in range(k-1):\n",
    "        # 保证节点个数 >= k 个\n",
    "        if pAhead.next.next != None:\n",
    "            pAhead = pAhead.next\n",
    "        else:\n",
    "            return None\n",
    "\n",
    "    while pAhead.next != None:\n",
    "        pAhead = pAhead.next\n",
    "        pBehind = pBehind.next\n",
    "\n",
    "    return pBehind"
   ]
  },
  {
   "cell_type": "code",
   "execution_count": 29,
   "metadata": {},
   "outputs": [
    {
     "name": "stdout",
     "output_type": "stream",
     "text": [
      "1\n"
     ]
    }
   ],
   "source": [
    "node1 = ListNode(1)\n",
    "node2 = ListNode(2)\n",
    "node3 = ListNode(3)\n",
    "node4 = ListNode(4)\n",
    "node5 = ListNode(5)\n",
    "node1.next = node2\n",
    "node2.next = node3\n",
    "node3.next = node4\n",
    "node4.next = node5\n",
    "a = FindKthToTail(node1,5)\n",
    "print(a.val)"
   ]
  },
  {
   "cell_type": "markdown",
   "metadata": {},
   "source": [
    "##### 定义一个空列表从链表的头开始到尾记录整个链表\n",
    "链表的特点是只能从当前项找到下一项"
   ]
  }
 ],
 "metadata": {
  "kernelspec": {
   "display_name": "Python 3",
   "language": "python",
   "name": "python3"
  },
  "language_info": {
   "codemirror_mode": {
    "name": "ipython",
    "version": 3
   },
   "file_extension": ".py",
   "mimetype": "text/x-python",
   "name": "python",
   "nbconvert_exporter": "python",
   "pygments_lexer": "ipython3",
   "version": "3.6.4"
  }
 },
 "nbformat": 4,
 "nbformat_minor": 2
}
