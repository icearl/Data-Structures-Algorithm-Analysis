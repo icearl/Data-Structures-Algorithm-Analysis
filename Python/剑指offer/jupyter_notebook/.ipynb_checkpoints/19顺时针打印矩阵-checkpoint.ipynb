{
 "cells": [
  {
   "cell_type": "markdown",
   "metadata": {},
   "source": [
    "#### 输入一个矩阵，按照从外向里以顺时针的顺序依次打印出每一个数字，例如，如果输入如下矩阵： \n",
    "\n",
    "1  2  3  4 \n",
    "\n",
    "5  6  7  8 \n",
    "\n",
    "9  10 11 12 \n",
    "\n",
    "13 14 15 16 \n",
    "\n",
    "则依次打印出数字1,2,3,4,8,12,16,15,14,13,9,5,6,7,11,10."
   ]
  },
  {
   "cell_type": "code",
   "execution_count": 3,
   "metadata": {
    "collapsed": true
   },
   "outputs": [],
   "source": [
    "# -*- coding:utf-8 -*-\n",
    "class Solution:\n",
    "    # matrix类型为二维列表，需要返回列表\n",
    "    def printMatrix(self, matrix):\n",
    "        # write code here\n",
    "        result=[]\n",
    "        while matrix:\n",
    "            result.extend(matrix.pop(0)) #matrix弹出第一行\n",
    "            #或者用result=result+matrix.pop(0),不能用result.append(matrix.pop(0))，因为它是一个列表不是元素，如果用append的话就将这段列表作为一个元素挂在后面了\n",
    "            if not matrix: #注意这里判断语句的位置\n",
    "                break\n",
    "            matrix=self.turn(matrix)\n",
    "        return result\n",
    "\n",
    "    def turn(self,matrix):#将剩余的matrix部分逆时针旋转90°\n",
    "        newmatrix=[]\n",
    "        row=len(matrix)#剩余部分的行数\n",
    "        col=len(matrix[0])#剩余部分的列数\n",
    "        for j in range(col):#对于每一列\n",
    "            eachcolumn=[]\n",
    "            for i in range(row):#对于每一行\n",
    "                eachcolumn.append(matrix[i][j])#这里每个循环eachcolumn以行的形式存储输出当前矩阵最左边的列\n",
    "            newmatrix.append(eachcolumn)#相当于将当前矩阵最左边的列以行的形式一行一行的添加到newmatrix矩阵下面，此时行的顺序与目标矩阵的顺序是相反的\n",
    "        newmatrix.reverse()#将newmatrix矩阵的行顺序倒过来 #另一种思路，生成newmatrix矩阵的时候直接用从最右边的列开始一行一行添加\n",
    "        return newmatrix"
   ]
  },
  {
   "cell_type": "markdown",
   "metadata": {},
   "source": [
    "##### 把矩阵画出来跟着循环走一遍\n",
    " 矩阵的pop(0)是弹出第一行"
   ]
  }
 ],
 "metadata": {
  "kernelspec": {
   "display_name": "Python 2",
   "language": "python",
   "name": "python2"
  },
  "language_info": {
   "codemirror_mode": {
    "name": "ipython",
    "version": 2
   },
   "file_extension": ".py",
   "mimetype": "text/x-python",
   "name": "python",
   "nbconvert_exporter": "python",
   "pygments_lexer": "ipython2",
   "version": "2.7.13"
  }
 },
 "nbformat": 4,
 "nbformat_minor": 2
}
