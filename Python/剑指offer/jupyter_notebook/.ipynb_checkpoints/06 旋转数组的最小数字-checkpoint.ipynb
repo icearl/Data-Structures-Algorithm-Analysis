{
 "cells": [
  {
   "cell_type": "markdown",
   "metadata": {},
   "source": [
    "#### 把一个数组最开始的若干个元素搬到数组的末尾，我们称之为数组的旋转。 输入一个非递减排序(即后面的数大于等于前面的数)的数组的一个旋转，输出旋转数组的最小元素。 例如数组{3,4,5,1,2}为{1,2,3,4,5}的一个旋转，该数组的最小值为1。 NOTE：给出的所有元素都大于0，若数组大小为0，请返回0。"
   ]
  },
  {
   "cell_type": "code",
   "execution_count": 5,
   "metadata": {
    "collapsed": true
   },
   "outputs": [],
   "source": [
    "# -*- coding:utf-8 -*-\n",
    "class Solution:\n",
    "    def minNumberInRotateArray(self,rotateArray):\n",
    "        if len(rotateArray)==0:\n",
    "            return 0\n",
    "        if len(rotateArray)==1:\n",
    "            return rotateArray[0]\n",
    "        mini = rotateArray[0]\n",
    "        for i in range(0,len(rotateArray)):\n",
    "            if rotateArray[i] < mini:\n",
    "                mini = rotateArray[i]\n",
    "        return mini"
   ]
  },
  {
   "cell_type": "code",
   "execution_count": 4,
   "metadata": {
    "collapsed": true
   },
   "outputs": [],
   "source": [
    "#二分搜索法：\n",
    "# -*- coding:utf-8 -*-\n",
    "class Solution:\n",
    "    def minNumberInRotateArray(self, rotateArray):\n",
    "        # write code here\n",
    "        if len(rotateArray) == 0:\n",
    "            return 0\n",
    "        if len(rotateArray) == 1:\n",
    "            return rotateArray[0]\n",
    "        left = 0\n",
    "        right = len(rotateArray) - 1\n",
    "        while left <= right:\n",
    "            if rotateArray[left] == rotateArray[right]:\n",
    "                left += 1\n",
    "                right -= 1\n",
    "                #print left, \" \", right\n",
    "                 \n",
    "            else:\n",
    "                mid = (left + right) / 2 #Python2中两个整形的除法只保留整数部分，如果left的右边贴着right的话mid更新之后等于left\n",
    "                if left == mid: #当left挨着right，更新之后left==mid\n",
    "                    break\n",
    "                if rotateArray[mid] > rotateArray[right]: #此时最小值在mid和right中间,即右半边\n",
    "                    left = mid\n",
    "                elif rotateArray[mid] < rotateArray[left]: #此时最小值在mid和left中间，即左半边\n",
    "                    right = mid\n",
    "                else:\n",
    "                    #print left, \" \", right, \"~~\"\n",
    "                    return rotateArray[left]\n",
    "        return min(rotateArray[right], rotateArray[left])"
   ]
  },
  {
   "cell_type": "markdown",
   "metadata": {},
   "source": [
    "#####  这是一道二分查找的变形的题目。  \n",
    "     旋转之后的数组实际上可以划分成两个有序的子数组：前面子数组的大小都大于后面子数组中的元素  \n",
    "     注意到实际上最小的元素就是两个子数组的分界线。本题目给出的数组一定程度上是排序的，因此我们试着用二分查找法寻找这个最小的元素。  \n",
    "     思路：  \n",
    "  \n",
    "    （1）我们用两个指针left,right分别指向数组的第一个元素和最后一个元素。按照题目的旋转的规则，第一个元素应该是大于最后一个元素的（没有重复的元素）。  \n",
    "  但是如果不是旋转，第一个元素肯定小于最后一个元素。  \n",
    "     （2）找到数组的中间元素。  \n",
    "  中间元素大于第一个元素，则中间元素位于前面的递增子数组，此时最小元素位于中间元素的后面。我们可以让第一个指针left指向中间元素。  \n",
    "  移动之后，第一个指针仍然位于前面的递增数组中。  \n",
    "  中间元素小于第一个元素，则中间元素位于后面的递增子数组，此时最小元素位于中间元素的前面。我们可以让第二个指针right指向中间元素。  \n",
    "  \n",
    "    移动之后，第二个指针仍然位于后面的递增数组中。\n",
    "  \n",
    "  这样可以缩小寻找的范围。  \n",
    "     （3）按照以上思路，第一个指针left总是指向前面递增数组的元素，第二个指针right总是指向后面递增的数组元素。  \n",
    "  最终第一个指针将指向前面数组的最后一个元素，第二个指针指向后面数组中的第一个元素。  \n",
    "  也就是说他们将指向两个相邻的元素，而第二个指针指向的刚好是最小的元素，这就是循环的结束条件。  \n",
    "\n",
    "\n",
    "     到目前为止以上思路很耗的解决了没有重复数字的情况，这一道题目添加上了这一要求，有了重复数字。  \n",
    "     因此这一道题目比上一道题目多了些特殊情况：  \n",
    "     我们看一组例子：｛1，0，1，1，1｝ 和 ｛1，1，\n",
    "    1，0，1｝\n",
    "    都可以看成是递增排序数组｛0，1，1，1，1｝的旋转。  \n",
    "     这种情况下我们无法继续用上一道题目的解法，去解决这道题目。因为在这两个数组中，第一个数字，最后一个数字，中间数字都是1。  \n",
    "     第一种情况下，中间数字位于后面的子数组，第二种情况，中间数字位于前面的子数组。  \n",
    "  \n",
    "    因此当两个指针指向的数字和中间数字相同的时候，我们无法确定中间数字1是属于前面的子数组（绿色表示）还是属于后面的子数组（紫色表示）。  \n",
    "     也就无法移动指针来缩小查找的范围。"
   ]
  },
  {
   "cell_type": "code",
   "execution_count": null,
   "metadata": {
    "collapsed": true
   },
   "outputs": [],
   "source": []
  }
 ],
 "metadata": {
  "kernelspec": {
   "display_name": "Python 3",
   "language": "python",
   "name": "python3"
  },
  "language_info": {
   "codemirror_mode": {
    "name": "ipython",
    "version": 3
   },
   "file_extension": ".py",
   "mimetype": "text/x-python",
   "name": "python",
   "nbconvert_exporter": "python",
   "pygments_lexer": "ipython3",
   "version": "3.5.2"
  }
 },
 "nbformat": 4,
 "nbformat_minor": 2
}
