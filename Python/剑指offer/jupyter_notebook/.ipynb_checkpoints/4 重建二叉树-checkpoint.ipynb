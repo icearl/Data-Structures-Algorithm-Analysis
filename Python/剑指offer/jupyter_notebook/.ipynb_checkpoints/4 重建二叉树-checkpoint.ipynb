{
 "cells": [
  {
   "cell_type": "markdown",
   "metadata": {},
   "source": [
    "#### 输入某二叉树的前序遍历和中序遍历的结果，请重建出该二叉树。假设输入的前序遍历和中序遍历的结果中都不含重复的数字。例如输入前序遍历序列{1,2,4,7,3,5,6,8}和中序遍历序列{4,7,2,1,5,3,8,6}，则重建二叉树并返回。"
   ]
  },
  {
   "cell_type": "code",
   "execution_count": 3,
   "metadata": {
    "collapsed": true
   },
   "outputs": [],
   "source": [
    "# -*- coding:utf-8 -*-\n",
    "# class TreeNode:\n",
    "#     def __init__(self, x):\n",
    "#         self.val = x\n",
    "#         self.left = None\n",
    "#         self.right = None\n",
    "class Solution:\n",
    "    # 返回构造的TreeNode根节点\n",
    "    def reConstructBinaryTree(self, pre, tin):#pre代表输入的前序遍历的顺序，tin代表输入的中序遍历的顺序\n",
    "        # write code here\n",
    "        if len(pre) == 0:\n",
    "            return None\n",
    "        if len(pre) == 1:\n",
    "            return TreeNode(pre[0])\n",
    "        else:\n",
    "            flag = TreeNode(pre[0])\n",
    "            flag.left = self.reConstructBinaryTree(pre[1:tin.index(pre[0])+1],tin[:tin.index(pre[0])])#self.+函数名递归的方法 \n",
    "            #这一行中flag.left为根节点的左孩子，对其进行递归的二叉树打印\n",
    "            #其中，pre[1:tin.index(pre[0])+1]中的1总体根节点的左孩子，即左子树的根节点，tin.index(pre[0])为总体根节点在中序排列中的位置\n",
    "            #pre[1：tin.index(pre[0])+1]代表整个左子树中的节点\n",
    "            #tin[:tin.index(pre[0])]代表在中序遍历中整个左子树对应的序列\n",
    "            #即整句话为对整个左子树递归调用reConstructBinaryTree函数，中间的pre和tin参数分别对应着左子树中所有节点对应的前序及中序排列的部分序列\n",
    "            flag.right = self.reConstructBinaryTree(pre[tin.index(pre[0])+1:],tin[tin.index(pre[0])+1:] )\n",
    "            #如上，pre[tin.index(pre[0])+1:]中[tin.index(pre[0])+1:]代表右子树的根节点\n",
    "        return flag\n",
    "#画一个三个节点的二叉树来理解"
   ]
  },
  {
   "cell_type": "code",
   "execution_count": null,
   "metadata": {
    "collapsed": true
   },
   "outputs": [],
   "source": [
    "# -*- coding:utf-8 -*-\n",
    "# class TreeNode:\n",
    "#     def __init__(self, x):\n",
    "#         self.val = x\n",
    "#         self.left = None\n",
    "#         self.right = None\n",
    "class Solution:\n",
    "    # 返回构造的TreeNode根节点\n",
    "    def reConstructBinaryTree(self, pre, tin):\n",
    "        # write code here\n",
    "        root"
   ]
  }
 ],
 "metadata": {
  "kernelspec": {
   "display_name": "Python 2",
   "language": "python",
   "name": "python2"
  },
  "language_info": {
   "codemirror_mode": {
    "name": "ipython",
    "version": 2
   },
   "file_extension": ".py",
   "mimetype": "text/x-python",
   "name": "python",
   "nbconvert_exporter": "python",
   "pygments_lexer": "ipython2",
   "version": "2.7.13"
  }
 },
 "nbformat": 4,
 "nbformat_minor": 2
}
