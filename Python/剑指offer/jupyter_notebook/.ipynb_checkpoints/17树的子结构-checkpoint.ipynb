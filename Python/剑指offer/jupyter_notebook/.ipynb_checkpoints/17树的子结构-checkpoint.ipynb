{
 "cells": [
  {
   "cell_type": "markdown",
   "metadata": {},
   "source": [
    "#### 输入两棵二叉树A，B，判断B是不是A的子结构。（ps：我们约定空树不是任意一个树的子结构）"
   ]
  },
  {
   "cell_type": "code",
   "execution_count": 4,
   "metadata": {
    "collapsed": true
   },
   "outputs": [],
   "source": [
    "# -*- coding:utf-8 -*-\n",
    "# class TreeNode:\n",
    "#     def __init__(self, x):\n",
    "#         self.val = x\n",
    "#         self.left = None\n",
    "#         self.right = None\n",
    "class Solution:\n",
    "    def HasSubtree(self, pRoot1, pRoot2):\n",
    "        # write code here\n",
    "        if not pRoot1 or not pRoot2: #如果两棵树中有一颗没有根节点（即树是空的）\n",
    "            return False\n",
    "        return self.is_subtree(pRoot1, pRoot2) or self.HasSubtree(pRoot1.left, pRoot2) or self.HasSubtree(pRoot1.right, pRoot2)\n",
    "        #这里分三种情况判断，第一种是树2是否是树1根节点开始的子结构中，此时树2的根节点就是树1的根节点,注意递归调用的函数跟后两种情况不同\n",
    "        #第二种是树2包含在树1的左子树中，此时树2的根节点是树1左子树中某层的某个节点\n",
    "        #第三种是树2包含在树1的右子树中，此时树2的根节点是树1右子树中某层的某个节点\n",
    "    def is_subtree(self, A, B):\n",
    "        if not B: #说明B到在上一层已经终止了，包含在A的上一级结构中\n",
    "            return True\n",
    "        if not A or A.val != B.val:\n",
    "            return False\n",
    "        #如果上面两个if都没有满足，说明两个判断对象在这一层上的结构是一样的（两棵树都对应着相同一个节点），向下面一层继续判断\n",
    "        return self.is_subtree(A.left,B.left) and self.is_subtree(A.right, B.right) #如果B当前的节点在这层判断中与A当前判断的节点相同，则递归调用自身，对左右子节点继续向下判断\n"
   ]
  },
  {
   "cell_type": "markdown",
   "metadata": {},
   "source": [
    "先判断两棵树中有没有空的\n",
    "\n",
    "然后定义一个可以递归调用的判断右边的参数的树是否包含在左边参数的树里的函数\n",
    "\n",
    "这个函数的定义中也会递归调用自己"
   ]
  }
 ],
 "metadata": {
  "kernelspec": {
   "display_name": "Python 3",
   "language": "python",
   "name": "python3"
  },
  "language_info": {
   "codemirror_mode": {
    "name": "ipython",
    "version": 3
   },
   "file_extension": ".py",
   "mimetype": "text/x-python",
   "name": "python",
   "nbconvert_exporter": "python",
   "pygments_lexer": "ipython3",
   "version": "3.6.4"
  }
 },
 "nbformat": 4,
 "nbformat_minor": 2
}
