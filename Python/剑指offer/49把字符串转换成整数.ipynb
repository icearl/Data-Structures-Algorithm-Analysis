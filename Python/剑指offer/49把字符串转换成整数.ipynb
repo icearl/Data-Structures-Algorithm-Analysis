{
 "cells": [
  {
   "cell_type": "markdown",
   "metadata": {},
   "source": [
    "将一个字符串转换成一个整数，要求不能使用字符串转换整数的库函数。 数值为0或者字符串不是一个合法的数值则返回0"
   ]
  },
  {
   "cell_type": "code",
   "execution_count": 4,
   "metadata": {
    "collapsed": true
   },
   "outputs": [],
   "source": [
    "# -*- coding:utf-8 -*-\n",
    "class Solution:\n",
    "    def StrToInt(self, s):\n",
    "        # write code here\n",
    "        # 先排除异常特殊情况\n",
    "        if s in ['','-','+','+-','-+']:\n",
    "            return 0\n",
    "        count = 0 #用来统计字符串中不符合规定的字符\n",
    "        # 只要有非法字符就不过\n",
    "        for i in s:\n",
    "            # 检查字母\n",
    "            if i not in '0123456789+-':\n",
    "                count += 1\n",
    "        # 只要-+号不在第一位就不过\n",
    "        for i in s[1:]:\n",
    "            if i not in '0123456789':\n",
    "                count += 1\n",
    "        if count:\n",
    "            return 0\n",
    "        return int(s)"
   ]
  },
  {
   "cell_type": "code",
   "execution_count": null,
   "metadata": {
    "collapsed": true
   },
   "outputs": [],
   "source": []
  }
 ],
 "metadata": {
  "kernelspec": {
   "display_name": "Python 3",
   "language": "python",
   "name": "python3"
  },
  "language_info": {
   "codemirror_mode": {
    "name": "ipython",
    "version": 3
   },
   "file_extension": ".py",
   "mimetype": "text/x-python",
   "name": "python",
   "nbconvert_exporter": "python",
   "pygments_lexer": "ipython3",
   "version": "3.6.4"
  }
 },
 "nbformat": 4,
 "nbformat_minor": 2
}
