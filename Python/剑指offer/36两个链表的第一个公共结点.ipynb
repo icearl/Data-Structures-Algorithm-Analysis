{
 "cells": [
  {
   "cell_type": "markdown",
   "metadata": {},
   "source": [
    "#### 输入两个链表，找出它们的第一个公共结点。"
   ]
  },
  {
   "cell_type": "code",
   "execution_count": 1,
   "metadata": {
    "collapsed": true
   },
   "outputs": [],
   "source": [
    "# -*- coding:utf-8 -*-\n",
    "# class ListNode:\n",
    "#     def __init__(self, x):\n",
    "#         self.val = x\n",
    "#         self.next = None\n",
    "  \n",
    "class Solution:\n",
    "    def FindFirstCommonNode(self, head1, head2):\n",
    "        # write code here\n",
    "        list1 = []\n",
    "        list2 = []\n",
    "        node1 = head1\n",
    "        node2 = head2\n",
    "        while node1:\n",
    "            list1.append(node1.val)\n",
    "            node1 = node1.next\n",
    "        while node2:\n",
    "            if node2.val in list1:\n",
    "                return node2\n",
    "            else:\n",
    "                node2 = node2.next\n"
   ]
  },
  {
   "cell_type": "markdown",
   "metadata": {},
   "source": []
  }
 ],
 "metadata": {
  "kernelspec": {
   "display_name": "Python 2",
   "language": "python",
   "name": "python2"
  },
  "language_info": {
   "codemirror_mode": {
    "name": "ipython",
    "version": 2
   },
   "file_extension": ".py",
   "mimetype": "text/x-python",
   "name": "python",
   "nbconvert_exporter": "python",
   "pygments_lexer": "ipython2",
   "version": "2.7.13"
  }
 },
 "nbformat": 4,
 "nbformat_minor": 2
}
