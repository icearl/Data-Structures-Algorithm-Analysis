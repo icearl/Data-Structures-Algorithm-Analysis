{
 "cells": [
  {
   "cell_type": "markdown",
   "metadata": {},
   "source": [
    "#### 输入两个链表，找出它们的第一个公共结点。"
   ]
  },
  {
   "cell_type": "code",
   "execution_count": 1,
   "metadata": {
    "collapsed": true
   },
   "outputs": [],
   "source": [
    "# 哈希表遍历法：\n",
    "# -*- coding:utf-8 -*-\n",
    "# class ListNode:\n",
    "#     def __init__(self, x):\n",
    "#         self.val = x\n",
    "#         self.next = None\n",
    "  \n",
    "class Solution:\n",
    "    def FindFirstCommonNode(self, head1, head2):\n",
    "        # write code here\n",
    "        list1 = []\n",
    "        list2 = []\n",
    "        node1 = head1\n",
    "        node2 = head2\n",
    "        while node1:\n",
    "            list1.append(node1.val)\n",
    "            node1 = node1.next\n",
    "        while node2:\n",
    "            if node2.val in list1:\n",
    "                return node2\n",
    "            else:\n",
    "                node2 = node2.next\n"
   ]
  },
  {
   "cell_type": "code",
   "execution_count": 1,
   "metadata": {},
   "outputs": [],
   "source": [
    "    class Solution:\n",
    "        def FindFirstCommonNode(self, pHead1, pHead2):\n",
    "            # write code here\n",
    "            if pHead1 is None or pHead2 is None:\n",
    "                return None\n",
    "            p1, p2 = pHead1, pHead2\n",
    "            len_1 = len_2 = 0\n",
    "            # 获取长度\n",
    "            while p1 is not None:\n",
    "                p1 = p1.next\n",
    "                len_1 += 1\n",
    "            while p2 is not None:\n",
    "                p2 = p2.next\n",
    "                len_2 += 1\n",
    "            p1, p2 = pHead1, pHead2\n",
    "            # 长的先走几步\n",
    "            if len_1 >= len_2:\n",
    "                for i in range(len_1 - len_2):\n",
    "                    p1 = p1.next\n",
    "            else:\n",
    "                for i in range(len_2 - len_1):\n",
    "                    p2 = p2.next\n",
    "            # 同时走\n",
    "            while p1 is not None:\n",
    "                if p1.val == p2.val:\n",
    "                    return p1\n",
    "                p1 = p1.next\n",
    "                p2 = p2.next\n",
    "            return None"
   ]
  },
  {
   "cell_type": "code",
   "execution_count": null,
   "metadata": {},
   "outputs": [],
   "source": []
  }
 ],
 "metadata": {
  "kernelspec": {
   "display_name": "Python 3",
   "language": "python",
   "name": "python3"
  },
  "language_info": {
   "codemirror_mode": {
    "name": "ipython",
    "version": 3
   },
   "file_extension": ".py",
   "mimetype": "text/x-python",
   "name": "python",
   "nbconvert_exporter": "python",
   "pygments_lexer": "ipython3",
   "version": "3.6.4"
  }
 },
 "nbformat": 4,
 "nbformat_minor": 2
}
