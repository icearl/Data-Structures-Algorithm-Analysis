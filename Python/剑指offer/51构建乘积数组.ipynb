{
 "cells": [
  {
   "cell_type": "markdown",
   "metadata": {
    "collapsed": true
   },
   "source": [
    "#### 给定一个数组A[0,1,...,n-1],请构建一个数组B[0,1,...,n-1],其中B中的元素B[i]=A[0]*A[1]*...*A[i-1]*A[i+1]*...*A[n-1]。不能使用除法。"
   ]
  },
  {
   "cell_type": "code",
   "execution_count": 5,
   "metadata": {
    "collapsed": true
   },
   "outputs": [],
   "source": [
    "# -*- coding:utf-8 -*-\n",
    "class Solution:\n",
    "    def multiply(self, A):\n",
    "        # write code here\n",
    "        if not A:\n",
    "            return []\n",
    "        \n",
    "        # 计算前面一部分成绩\n",
    "        num = len(A)\n",
    "        B = [None] * num #先划定空间的目的是之后的循环会用到\n",
    "        B[0] = 1\n",
    "        for i in range(1, num):\n",
    "            B[i] = B[i-1] * A[i-1]\n",
    "            \n",
    "        # 计算后面一部分乘积：\n",
    "        # 从后向前\n",
    "        # 保留上次的计算结果乘本轮新的数,因为只是后半部分进行累加，所以设置一个tmp,能够保留上次结果\n",
    "        tmp = 1\n",
    "        for i in range(num-2, -1, -1): #i最小取到0，此时循环为B[0]*A[1]*(A[2]*A[3]*A[4])\n",
    "            tmp *= A[i+1]   \n",
    "            B[i] *= tmp\n",
    "            \n",
    "        return B"
   ]
  },
  {
   "cell_type": "markdown",
   "metadata": {},
   "source": [
    "链接：https://www.nowcoder.com/questionTerminal/94a4d381a68b47b7a8bed86f2975db46\n",
    "来源：牛客网\n",
    "\n",
    "解释下代码，设有数组大小为5。\n",
    "\n",
    "对于第一个for循环\n",
    "\n",
    "第一步：b[0] = 1;\n",
    "\n",
    "第二步：b[1] = b[0] * a[0] = a[0]\n",
    "\n",
    "第三步：b[2] = b[1] * a[1] = a[0] * a[1];\n",
    "\n",
    "第四步：b[3] = b[2] * a[2] = a[0] * a[1] * a[2];\n",
    "\n",
    "第五步：b[4] = b[3] * a[3] = a[0] * a[1] * a[2] * a[3];\n",
    "\n",
    "然后对于第二个for循环\n",
    "temp = 1\n",
    "\n",
    "第一步\n",
    "\n",
    "temp *= a[4] = a[4];  \n",
    "\n",
    "b[3] = b[3] * temp = a[0] * a[1] * a[2] * a[4];\n",
    "\n",
    "第二步\n",
    "\n",
    "temp *= a[3] = a[4] * a[3];\n",
    "\n",
    "b[2] = b[2] * temp = a[0] * a[1] * a[4] * a[3];\n",
    "\n",
    "第三步\n",
    "\n",
    "temp *= a[2] = a[4] * a[3] * a[2];  \n",
    "\n",
    "b[1] = b[1] * temp = a[0] * a[4] * a[3] * a[2];\n",
    "\n",
    "第四步\n",
    "\n",
    "temp *= a[1] = a[4] * a[3] * a[2] * a[1];  \n",
    "\n",
    "b[0] = b[0] * temp = a[4] * a[3] * a[2] * a[1];\n",
    "\n",
    "由此可以看出从b[4]到b[0]均已经得到正确计算。\n"
   ]
  },
  {
   "cell_type": "code",
   "execution_count": null,
   "metadata": {
    "collapsed": true
   },
   "outputs": [],
   "source": []
  }
 ],
 "metadata": {
  "kernelspec": {
   "display_name": "Python 2",
   "language": "python",
   "name": "python2"
  },
  "language_info": {
   "codemirror_mode": {
    "name": "ipython",
    "version": 2
   },
   "file_extension": ".py",
   "mimetype": "text/x-python",
   "name": "python",
   "nbconvert_exporter": "python",
   "pygments_lexer": "ipython2",
   "version": "2.7.13"
  }
 },
 "nbformat": 4,
 "nbformat_minor": 2
}
