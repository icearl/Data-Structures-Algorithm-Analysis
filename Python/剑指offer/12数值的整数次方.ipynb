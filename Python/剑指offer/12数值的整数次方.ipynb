{
 "cells": [
  {
   "cell_type": "markdown",
   "metadata": {},
   "source": [
    "#### 给定一个double类型的浮点数base和int类型的整数exponent。求base的exponent次方。"
   ]
  },
  {
   "cell_type": "code",
   "execution_count": 3,
   "metadata": {
    "collapsed": true
   },
   "outputs": [],
   "source": [
    "# -*- coding:utf-8 -*-\n",
    "class Solution:\n",
    "    def Power(self, base, exponent):\n",
    "        # write code here\n",
    "        flag = 0\n",
    "        if base == 0:\n",
    "            return False\n",
    "        if exponent == 0:\n",
    "            return 1\n",
    "        if exponent < 0:\n",
    "            flag = 1\n",
    "        result = 1\n",
    "        for i in range(abs(exponent)):\n",
    "            result *= base\n",
    "        if flag == 1:\n",
    "            result = 1 / result\n",
    "        return result"
   ]
  },
  {
   "cell_type": "code",
   "execution_count": null,
   "metadata": {
    "collapsed": true
   },
   "outputs": [],
   "source": [
    "class Solution:\n",
    "    def Power(self, base, exponent):\n",
    "        flag = 0\n",
    "        if base == 0:\n",
    "            return false\n",
    "        if exponent == 0 :\n",
    "            return 1\n",
    "        if exponent"
   ]
  },
  {
   "cell_type": "code",
   "execution_count": 9,
   "metadata": {
    "collapsed": true
   },
   "outputs": [],
   "source": [
    "# -*- coding:utf-8 -*-\n",
    "class Solution:\n",
    "    def Power(self, base, exponent):\n",
    "        # write code here\n",
    "        if base == 0:\n",
    "            return 0\n",
    "        res = self.powerWithPositiveE(base, abs(exponent))\n",
    "        if exponent < 0:\n",
    "            res = 1 / res\n",
    "        return res\n",
    "     \n",
    "    def powerWithPositiveE(self, base, exponent):\n",
    "        if exponent == 0:\n",
    "            return 1\n",
    "        if exponent == 1:\n",
    "            return base\n",
    "        res = self.powerWithPositiveE(base, exponent >> 1)#递归调用,此时res是exponent右移一位之后得到的结果\n",
    "        res = res**2 #这里把res平方的原因是上一句中递归调用的exponent右移一位之后带入powerWithPositiveE函数，相当于最后函数得到的res是右移之前的结果的平方根\n",
    "        if exponent & 1 == 1:\n",
    "            res = res*base#这里乘的base是对应着exponent在此时最右面的一位（1），之前res对应着exponent除了最后一位的前面所有位的结果\n",
    "        return res"
   ]
  },
  {
   "cell_type": "markdown",
   "metadata": {},
   "source": [
    "#### ：https://www.nowcoder.com/questionTerminal/1a834e5e3e1a4b7ba251417554e07c00\n",
    "来源：牛客网\n",
    "\n",
    " * 1.全面考察指数的正负、底数是否为零等情况。\n",
    " * 2.写出指数的二进制表达，例如13表达为二进制1101。\n",
    " * 3.举例:10^1101 = 10^0001*10^0100*10^1000。\n",
    " * 4.通过&1和>>1来逐位读取1101，为1时将该位代表的乘数累乘到最终结果。"
   ]
  }
 ],
 "metadata": {
  "kernelspec": {
   "display_name": "Python 2",
   "language": "python",
   "name": "python2"
  },
  "language_info": {
   "codemirror_mode": {
    "name": "ipython",
    "version": 2
   },
   "file_extension": ".py",
   "mimetype": "text/x-python",
   "name": "python",
   "nbconvert_exporter": "python",
   "pygments_lexer": "ipython2",
   "version": "2.7.13"
  }
 },
 "nbformat": 4,
 "nbformat_minor": 2
}
