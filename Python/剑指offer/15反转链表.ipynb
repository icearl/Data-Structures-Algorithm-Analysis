{
 "cells": [
  {
   "cell_type": "markdown",
   "metadata": {},
   "source": [
    "#### 输入一个链表，反转链表后，输出链表的所有元素。"
   ]
  },
  {
   "cell_type": "code",
   "execution_count": 2,
   "metadata": {
    "collapsed": true
   },
   "outputs": [],
   "source": [
    "# -*- coding:utf-8 -*-\n",
    "# class ListNode:\n",
    "#     def __init__(self, x):\n",
    "#         self.val = x\n",
    "#         self.next = None\n",
    "class Solution:\n",
    "    # 返回ListNode\n",
    "    def ReverseList(self, pHead):\n",
    "        if pHead==None or pHead.next==None:  #如果链表是空或者链表只有一个节点\n",
    "            return pHead\n",
    "        p_before = None #设置一个空节点，之后在第一次循环中让原本链表的头结点的指针从指向下一个节点倒过来指向空节点(变成了没有指向的节点)\n",
    "        pNode = pHead #原来链表的头\n",
    "        while pNode: #当链表没有遍历完时\n",
    "            pNext = pNode.next #原链表中当前节点指向的下一节点,pNext变量的作用是存储当前节点的下一个节点，好让pNoede在本次循环结束之后通过读取pNext移向下一位。\n",
    "            pNode.next = p_before #令当前节点的指针反向，指向前一个节点\n",
    "            p_before = pNode #将前一个节点移到当前节点\n",
    "            pNode = pNext #将当前节点移到下一个节点，此时这个进行循环之前的pNode节点与进行这个循环之后当前的pNode节点中间是断开的\n",
    "        return p_before"
   ]
  },
  {
   "cell_type": "code",
   "execution_count": null,
   "metadata": {
    "collapsed": true
   },
   "outputs": [],
   "source": [
    "class Solution:\n",
    "    def ReverseList(self,pHead):\n",
    "        if pHead == None or pHead.next == None:\n",
    "            return pHead\n",
    "        p_before"
   ]
  },
  {
   "cell_type": "markdown",
   "metadata": {},
   "source": [
    "假设原链表为\n",
    "\n",
    "空 1-2\n",
    "\n",
    "第一个循环结束后\n",
    "\n",
    "空-1 2"
   ]
  },
  {
   "cell_type": "code",
   "execution_count": null,
   "metadata": {
    "collapsed": true
   },
   "outputs": [],
   "source": []
  }
 ],
 "metadata": {
  "kernelspec": {
   "display_name": "Python 2",
   "language": "python",
   "name": "python2"
  },
  "language_info": {
   "codemirror_mode": {
    "name": "ipython",
    "version": 2
   },
   "file_extension": ".py",
   "mimetype": "text/x-python",
   "name": "python",
   "nbconvert_exporter": "python",
   "pygments_lexer": "ipython2",
   "version": "2.7.13"
  }
 },
 "nbformat": 4,
 "nbformat_minor": 2
}
