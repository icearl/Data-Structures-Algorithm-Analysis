{
 "cells": [
  {
   "cell_type": "markdown",
   "metadata": {},
   "source": [
    "#### 输入一个整数数组，判断该数组是不是某二叉搜索树的后序遍历的结果。如果是则输出Yes,否则输出No。假设输入的数组的任意两个数字都互不相同。"
   ]
  },
  {
   "cell_type": "markdown",
   "metadata": {},
   "source": [
    "### 代码里最后的判断条件为什么是or不是and?"
   ]
  },
  {
   "cell_type": "code",
   "execution_count": 6,
   "metadata": {
    "collapsed": true
   },
   "outputs": [],
   "source": [
    "# -*- coding:utf-8 -*-\n",
    "class Solution:\n",
    "    def VerifySquenceOfBST(self, sequence):\n",
    "        # write code here\n",
    "        length = len(sequence)\n",
    "        if length == 0:\n",
    "            return False\n",
    "        if length == 1:\n",
    "            return True\n",
    "        root = sequence[-1]\n",
    "        left = 0\n",
    "        while sequence[left] < root: #left最终为root的左子树的节点个数，求出左子树节点个数就知道了左子树和右子树各自节点个数\n",
    "            left += 1\n",
    "        for j in range(left, length-1):#对右子树中的节点进行判断\n",
    "            if sequence[j] < root:\n",
    "                return False\n",
    "        return self.VerifySquenceOfBST(sequence[:left]) or self.VerifySquenceOfBST(sequence[left:length-1])#递归调用，对左子树右子树内部进行判断"
   ]
  },
  {
   "cell_type": "markdown",
   "metadata": {},
   "source": [
    "思路：先假定序列是后续搜索的顺序，再根据条件判断\n",
    "\n",
    "二叉搜索树：\n",
    "\n",
    "若任意节点的左子树不空，则左子树上所有节点的值均小于它的根节点的值；\n",
    "\n",
    "若任意节点的右子树不空，则右子树上所有节点的值均大于它的根节点的值；\n",
    "\n",
    "任意节点的左、右子树也分别为二叉查找树；\n",
    "\n",
    "没有键值相等的节点。\n",
    "\n",
    "后序遍历：左子树-右子树-根节点"
   ]
  }
 ],
 "metadata": {
  "kernelspec": {
   "display_name": "Python 2",
   "language": "python",
   "name": "python2"
  },
  "language_info": {
   "codemirror_mode": {
    "name": "ipython",
    "version": 2
   },
   "file_extension": ".py",
   "mimetype": "text/x-python",
   "name": "python",
   "nbconvert_exporter": "python",
   "pygments_lexer": "ipython2",
   "version": "2.7.13"
  }
 },
 "nbformat": 4,
 "nbformat_minor": 2
}
