{
 "cells": [
  {
   "cell_type": "markdown",
   "metadata": {},
   "source": [
    "#### 在一个排序的链表中，存在重复的结点，请删除该链表中重复的结点，重复的结点不保留，返回链表头指针。 例如，链表1->2->3->3->4->4->5 处理后为 1->2->5"
   ]
  },
  {
   "cell_type": "code",
   "execution_count": 4,
   "metadata": {},
   "outputs": [],
   "source": [
    "# -*- coding:utf-8 -*-\n",
    "# 方法一：递归解法\n",
    "# class ListNode:\n",
    "#     def __init__(self, x):\n",
    "#         self.val = x\n",
    "#         self.next = None\n",
    "class Solution:\n",
    "    def deleteDuplication(self, pHead): \n",
    "        # write code here\n",
    "        if pHead is None or pHead.next is None:\n",
    "            return pHead\n",
    "        nexthead = pHead.next\n",
    "        if nexthead.val != pHead.val:\n",
    "            pHead.next = self.deleteDuplication(pHead.next)\n",
    "        else:\n",
    "            while pHead.val == nexthead.val and nexthead.next is not None:\n",
    "                nexthead = nexthead.next\n",
    "            if nexthead.val != pHead.val:\n",
    "                pHead = self.deleteDuplication(nexthead)\n",
    "            else:\n",
    "                return None\n",
    "        return pHead"
   ]
  },
  {
   "cell_type": "code",
   "execution_count": null,
   "metadata": {},
   "outputs": [],
   "source": [
    "# 方法二：循环解法\n",
    "# -*- coding:utf-8 -*-\n",
    "# class ListNode:\n",
    "#     def __init__(self, x):\n",
    "#         self.val = x\n",
    "#         self.next = None\n",
    "class Solution:\n",
    "    def deleteDuplication(self, pHead):\n",
    "        # write code here\n",
    "        if pHead is None or pHead.next is None:\n",
    "            return pHead\n",
    "        nil = ListNode(-1)\n",
    "        nil.next = pHead\n",
    "        p = nil\n",
    "        # 循环直到最后一个停下\n",
    "        while p.next is not None and p.next.next is not None:\n",
    "            if p.next.val == p.next.next.val:\n",
    "                value = p.next.val\n",
    "                while p.next is not None and p.next.val == value:\n",
    "                    p.next = p.next.next\n",
    "            else:\n",
    "                p = p.next\n",
    "        return nil.next"
   ]
  }
 ],
 "metadata": {
  "kernelspec": {
   "display_name": "Python 3",
   "language": "python",
   "name": "python3"
  },
  "language_info": {
   "codemirror_mode": {
    "name": "ipython",
    "version": 3
   },
   "file_extension": ".py",
   "mimetype": "text/x-python",
   "name": "python",
   "nbconvert_exporter": "python",
   "pygments_lexer": "ipython3",
   "version": "3.6.4"
  }
 },
 "nbformat": 4,
 "nbformat_minor": 2
}
