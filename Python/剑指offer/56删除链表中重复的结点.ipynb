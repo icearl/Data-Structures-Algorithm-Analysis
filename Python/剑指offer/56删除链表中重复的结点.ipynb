{
 "cells": [
  {
   "cell_type": "markdown",
   "metadata": {},
   "source": [
    "#### 在一个排序的链表中，存在重复的结点，请删除该链表中重复的结点，重复的结点不保留，返回链表头指针。 例如，链表1->2->3->3->4->4->5 处理后为 1->2->5"
   ]
  },
  {
   "cell_type": "code",
   "execution_count": 4,
   "metadata": {},
   "outputs": [],
   "source": [
    "# -*- coding:utf-8 -*-\n",
    "# class ListNode:\n",
    "#     def __init__(self, x):\n",
    "#         self.val = x\n",
    "#         self.next = Noneclass Solution:\n",
    "class Solution:\n",
    "    def deleteDuplication(self, pHead):\n",
    "        # write code here\n",
    "        if pHead is None or pHead.next is None:\n",
    "            return pHead\n",
    "        nexthead = pHead.next\n",
    "        if nexthead.val != pHead.val:\n",
    "            pHead.next = self.deleteDuplication(pHead.next)\n",
    "        else:\n",
    "            while pHead.val == nexthead.val and nexthead.next is not None:\n",
    "                nexthead = nexthead.next\n",
    "            if nexthead.val != pHead.val:\n",
    "                pHead = self.deleteDuplication(nexthead)\n",
    "            else:\n",
    "                return None\n",
    "        return pHead"
   ]
  }
 ],
 "metadata": {
  "kernelspec": {
   "display_name": "Python 2",
   "language": "python",
   "name": "python2"
  },
  "language_info": {
   "codemirror_mode": {
    "name": "ipython",
    "version": 2
   },
   "file_extension": ".py",
   "mimetype": "text/x-python",
   "name": "python",
   "nbconvert_exporter": "python",
   "pygments_lexer": "ipython2",
   "version": "2.7.13"
  }
 },
 "nbformat": 4,
 "nbformat_minor": 2
}
