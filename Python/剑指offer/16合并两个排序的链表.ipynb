{
 "cells": [
  {
   "cell_type": "markdown",
   "metadata": {},
   "source": [
    "#### 输入两个单调递增的链表，输出两个链表合成后的链表，当然我们需要合成后的链表满足单调不减规则。"
   ]
  },
  {
   "cell_type": "code",
   "execution_count": null,
   "metadata": {
    "collapsed": true
   },
   "outputs": [],
   "source": [
    "# 方法一：递归法\n",
    "# -*- coding:utf-8 -*-\n",
    "# class ListNode:\n",
    "#     def __init__(self, x):\n",
    "#         self.val = x\n",
    "#         self.next = None\n",
    "class Solution:\n",
    "    # 返回合并后列表\n",
    "    def Merge(self, pHead1, pHead2):\n",
    "        # write code here\n",
    "        if pHead1 == None:\n",
    "            return pHead2\n",
    "        if pHead2 == None:\n",
    "            return pHead1\n",
    "        pMergedHead = None\n",
    "        if pHead1.val < pHead2.val:\n",
    "            pMergedHead = pHead1\n",
    "            pMergedHead.next = self.Merge(pHead1.next, pHead2)\n",
    "        else:\n",
    "            pMergedHead = pHead2\n",
    "            pMergedHead.next = self.Merge(pHead1, pHead2.next)\n",
    "        return pMergedHead"
   ]
  },
  {
   "cell_type": "markdown",
   "metadata": {},
   "source": [
    "先判断两个链表是否有空链表\n",
    "\n",
    "然后在合并的过程中，比较两个链表的每个节点值大小，小的那个链表的节点加到新生成的链表中，并且将小的那个链表向后移一位，即移到小的移到next，\n",
    "\n",
    "#### 注意这里面使用了递归函数，所以不需要在函数体中写循环\n",
    "优点：不需要写循环体，并且省去了每次循环的条件判断，"
   ]
  },
  {
   "cell_type": "code",
   "execution_count": 1,
   "metadata": {},
   "outputs": [
    {
     "name": "stdout",
     "output_type": "stream",
     "text": [
      "a <__main__.ListNode object at 0x107157c50>\n",
      "1\n",
      "2\n",
      "3\n",
      "4\n",
      "5\n"
     ]
    }
   ],
   "source": [
    "# 方法二：循环法\n",
    "class ListNode:\n",
    "    def __init__(self, x):\n",
    "        self.val = x\n",
    "        self.next = None\n",
    "\n",
    "\n",
    "def Merge(pHead1, pHead2):\n",
    "    nil = ListNode(-1)\n",
    "    p = nil\n",
    "    p1 = pHead1\n",
    "    p2 = pHead2\n",
    "    while p1 is not None and p2 is not None:\n",
    "        if p1.val <= p2.val:\n",
    "            p.next = p1\n",
    "            p1 = p1.next\n",
    "        else:\n",
    "            p.next = p2\n",
    "            p2 = p2.next\n",
    "        p = p.next\n",
    "    if p1 is not None:\n",
    "        p.next = p1\n",
    "    elif p2 is not None:\n",
    "        p.next = p2\n",
    "    return nil.next\n",
    "\n",
    "\n",
    "n1 = ListNode(1)\n",
    "n2 = ListNode(3)\n",
    "n3 = ListNode(5)\n",
    "\n",
    "n4 = ListNode(2)\n",
    "n5 = ListNode(4)\n",
    "\n",
    "n1.next = n2\n",
    "n2.next = n3\n",
    "\n",
    "n4.next = n5\n",
    "a = Merge(n1, n4)\n",
    "print('a', a )\n",
    "while a:\n",
    "    print(a.val)\n",
    "    a = a.next"
   ]
  }
 ],
 "metadata": {
  "kernelspec": {
   "display_name": "Python 3",
   "language": "python",
   "name": "python3"
  },
  "language_info": {
   "codemirror_mode": {
    "name": "ipython",
    "version": 3
   },
   "file_extension": ".py",
   "mimetype": "text/x-python",
   "name": "python",
   "nbconvert_exporter": "python",
   "pygments_lexer": "ipython3",
   "version": "3.6.4"
  }
 },
 "nbformat": 4,
 "nbformat_minor": 2
}
