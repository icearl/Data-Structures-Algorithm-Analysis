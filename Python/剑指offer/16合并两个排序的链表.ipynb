{
 "cells": [
  {
   "cell_type": "markdown",
   "metadata": {},
   "source": [
    "#### 输入两个单调递增的链表，输出两个链表合成后的链表，当然我们需要合成后的链表满足单调不减规则。"
   ]
  },
  {
   "cell_type": "code",
   "execution_count": null,
   "metadata": {
    "collapsed": true
   },
   "outputs": [],
   "source": [
    "# -*- coding:utf-8 -*-\n",
    "# class ListNode:\n",
    "#     def __init__(self, x):\n",
    "#         self.val = x\n",
    "#         self.next = None\n",
    "class Solution:\n",
    "    # 返回合并后列表\n",
    "    def Merge(self, pHead1, pHead2):\n",
    "        # write code here\n",
    "        if pHead1 == None:\n",
    "            return pHead2\n",
    "        if pHead2 == None:\n",
    "            return pHead1\n",
    "        pMergedHead = None\n",
    "        if pHead1.val < pHead2.val:\n",
    "            pMergedHead = pHead1\n",
    "            pMergedHead.next = self.Merge(pHead1.next, pHead2)\n",
    "        else:\n",
    "            pMergedHead = pHead2\n",
    "            pMergedHead.next = self.Merge(pHead1, pHead2.next)\n",
    "        return pMergedHead"
   ]
  },
  {
   "cell_type": "markdown",
   "metadata": {},
   "source": [
    "先判断两个链表是否有空链表\n",
    "\n",
    "然后在合并的过程中，比较两个链表的每个节点值大小，小的那个链表的节点加到新生成的链表中，并且将小的那个链表向后移一位，即移到小的移到next，\n",
    "\n",
    "#### 注意这里面使用了递归函数，所以不需要在函数体中写循环\n",
    "优点：不需要写循环体，并且省去了每次循环的条件判断，"
   ]
  },
  {
   "cell_type": "code",
   "execution_count": null,
   "metadata": {
    "collapsed": true
   },
   "outputs": [],
   "source": [
    "class Solution:\n",
    "    # 返回合并后列表\n",
    "    def Merge(self, pHead1, pHead2):\n",
    "        if pHead1==None:\n",
    "            return pHead2\n",
    "        if pHead2==None:\n",
    "            return pHead1\n",
    "        NewpHead = None\n",
    "        if  pHead1.val<pHead2.val:\n",
    "            NewpHead = pHead1\n",
    "            NewpHead.next = self.Merge(pHead1.next,pHead2)\n",
    "        else:\n",
    "            NewpHead = pHead2\n",
    "            NewpHead.next = self.Merge(pHead1,pHead2.next)\n",
    "        return NewpHead"
   ]
  }
 ],
 "metadata": {
  "kernelspec": {
   "display_name": "Python 2",
   "language": "python",
   "name": "python2"
  },
  "language_info": {
   "codemirror_mode": {
    "name": "ipython",
    "version": 2
   },
   "file_extension": ".py",
   "mimetype": "text/x-python",
   "name": "python",
   "nbconvert_exporter": "python",
   "pygments_lexer": "ipython2",
   "version": "2.7.13"
  }
 },
 "nbformat": 4,
 "nbformat_minor": 2
}
