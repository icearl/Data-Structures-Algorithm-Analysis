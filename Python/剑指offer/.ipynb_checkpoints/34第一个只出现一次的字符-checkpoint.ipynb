{
 "cells": [
  {
   "cell_type": "markdown",
   "metadata": {},
   "source": [
    "在一个字符串(1<=字符串长度<=10000，全部由字母组成)中找到第一个只出现一次的字符,并返回它的位置"
   ]
  },
  {
   "cell_type": "code",
   "execution_count": 2,
   "metadata": {
    "collapsed": true
   },
   "outputs": [],
   "source": [
    "# 作弊了：\n",
    "# -*- coding:utf-8 -*-\n",
    "class Solution:\n",
    "    def FirstNotRepeatingChar(self,s):\n",
    "        if len(s) == 0:\n",
    "            return -1\n",
    "        for i in range(len(s)):\n",
    "            if s.count(s[i])==1: #列表的.count函数\n",
    "                return  i"
   ]
  },
  {
   "cell_type": "code",
   "execution_count": 4,
   "metadata": {},
   "outputs": [],
   "source": [
    "# 用这个：书上构造哈希表的方式\n",
    "class Solution:\n",
    "    def FirstNotRepeatingChar(self,s):\n",
    "        if len(s) == 0:\n",
    "            return - 1\n",
    "        # 构造一个哈希表\n",
    "        ls=[0]*256\n",
    "        #遍历字符串,下标为ASCII值,值为次数\n",
    "        for i in s:\n",
    "            ls[ord(i)]+=1\n",
    "        #遍历列表,找到出现次数为1的字符并输出位置\n",
    "        for j in s:\n",
    "            if ls[ord(j)]==1:\n",
    "                return s.index(j)\n",
    "                break\n",
    "        return -1"
   ]
  }
 ],
 "metadata": {
  "kernelspec": {
   "display_name": "Python 3",
   "language": "python",
   "name": "python3"
  },
  "language_info": {
   "codemirror_mode": {
    "name": "ipython",
    "version": 3
   },
   "file_extension": ".py",
   "mimetype": "text/x-python",
   "name": "python",
   "nbconvert_exporter": "python",
   "pygments_lexer": "ipython3",
   "version": "3.6.4"
  }
 },
 "nbformat": 4,
 "nbformat_minor": 2
}
