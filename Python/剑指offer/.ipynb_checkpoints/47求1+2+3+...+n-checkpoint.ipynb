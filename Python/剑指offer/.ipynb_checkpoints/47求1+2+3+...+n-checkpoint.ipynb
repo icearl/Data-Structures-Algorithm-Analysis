{
 "cells": [
  {
   "cell_type": "markdown",
   "metadata": {},
   "source": [
    "求1+2+3+...+n，要求不能使用乘除法、for、while、if、else、switch、case等关键字及条件判断语句（A?B:C）。"
   ]
  },
  {
   "cell_type": "code",
   "execution_count": 2,
   "metadata": {
    "collapsed": true
   },
   "outputs": [],
   "source": [
    "# -*- coding:utf-8 -*-\n",
    "class Solution:\n",
    "    def Sum_Solution(self, n):\n",
    "        # write code here\n",
    "        def f(x,y):\n",
    "            return x+y\n",
    "        return reduce(f,range(n+1))"
   ]
  },
  {
   "cell_type": "code",
   "execution_count": 3,
   "metadata": {
    "collapsed": true
   },
   "outputs": [],
   "source": [
    "# -*- coding:utf-8 -*-\n",
    "class Solution:\n",
    "    def __init__(self):\n",
    "        self.sum = 0\n",
    "    def Sum_Solution(self, n):\n",
    "        # write code here\n",
    "        def qiusum(n):\n",
    "            self.sum += n\n",
    "            n -= 1\n",
    "            return n>0 and self.Sum_Solution(n)\n",
    "          \n",
    "        qiusum(n)\n",
    "        return self.sum"
   ]
  },
  {
   "cell_type": "code",
   "execution_count": null,
   "metadata": {
    "collapsed": true
   },
   "outputs": [],
   "source": []
  }
 ],
 "metadata": {
  "kernelspec": {
   "display_name": "Python 2",
   "language": "python",
   "name": "python2"
  },
  "language_info": {
   "codemirror_mode": {
    "name": "ipython",
    "version": 2
   },
   "file_extension": ".py",
   "mimetype": "text/x-python",
   "name": "python",
   "nbconvert_exporter": "python",
   "pygments_lexer": "ipython2",
   "version": "2.7.13"
  }
 },
 "nbformat": 4,
 "nbformat_minor": 2
}
