{
 "cells": [
  {
   "cell_type": "markdown",
   "metadata": {},
   "source": [
    "#### 输入一个正整数数组，把数组里所有数字拼接起来排成一个数，打印能拼接出的所有数字中最小的一个。例如输入数组{3，32，321}，则打印出这三个数字能排成的最小数字为321323。"
   ]
  },
  {
   "cell_type": "code",
   "execution_count": 2,
   "metadata": {
    "collapsed": true
   },
   "outputs": [],
   "source": [
    "# 核心：定义一个新的比较函数，然后调用排序函数。\n",
    "# -*- coding:utf-8 -*-\n",
    "class Solution:\n",
    "    def PrintMinNumber(self, numbers):\n",
    "        # write code here\n",
    "        if not numbers:\n",
    "            return \"\"\n",
    "        num=map(str,numbers)#map操作，将numbers里的元素都变成字符串\n",
    "        # sort文档:http://python-reference.readthedocs.io/en/latest/docs/list/sort.html\n",
    "        # cmp说明:http://www.runoob.com/python/func-number-cmp.html\n",
    "        num.sort(lambda x,y:cmp(x+y,y+x))\n",
    "        return ''.join(num)#字符串利用Join添加元素"
   ]
  }
 ],
 "metadata": {
  "kernelspec": {
   "display_name": "Python 3",
   "language": "python",
   "name": "python3"
  },
  "language_info": {
   "codemirror_mode": {
    "name": "ipython",
    "version": 3
   },
   "file_extension": ".py",
   "mimetype": "text/x-python",
   "name": "python",
   "nbconvert_exporter": "python",
   "pygments_lexer": "ipython3",
   "version": "3.6.4"
  }
 },
 "nbformat": 4,
 "nbformat_minor": 2
}
