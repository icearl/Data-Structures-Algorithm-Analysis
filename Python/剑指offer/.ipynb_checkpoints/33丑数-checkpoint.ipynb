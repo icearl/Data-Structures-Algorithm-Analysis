{
 "cells": [
  {
   "cell_type": "markdown",
   "metadata": {},
   "source": [
    "#### 把只包含因子2、3和5的数称作丑数（Ugly Number）。例如6、8都是丑数，但14不是，因为它包含因子7。 习惯上我们把1当做是第一个丑数。求按从小到大的顺序的第N个丑数。"
   ]
  },
  {
   "cell_type": "code",
   "execution_count": 1,
   "metadata": {
    "collapsed": true
   },
   "outputs": [],
   "source": [
    "\n",
    "class Solution:\n",
    "    def GetUglyNumber_Solution(self, index):\n",
    "        if (index <= 0):\n",
    "            return 0\n",
    "        uglyList = [1]\n",
    "        indexTwo = 0\n",
    "        indexThree = 0\n",
    "        indexFive = 0\n",
    "        for i in range(index-1):\n",
    "            newUgly = min(uglyList[indexTwo]*2, uglyList[indexThree]*3, uglyList[indexFive]*5)\n",
    "            uglyList.append(newUgly)\n",
    "            if (newUgly % 2 == 0):\n",
    "                indexTwo += 1\n",
    "            if (newUgly % 3 == 0):\n",
    "                indexThree += 1\n",
    "            if (newUgly % 5 == 0):\n",
    "                indexFive += 1\n",
    "        return uglyList[-1]"
   ]
  },
  {
   "cell_type": "markdown",
   "metadata": {},
   "source": [
    "链接：https://www.nowcoder.com/questionTerminal/6aa9e04fc3794f68acf8778237ba065b\n",
    "来源：牛客网\n",
    "\n",
    "说下思路，如果p是丑数，那么p=2^x  *  3^y  *  5^z\n",
    "\n",
    "那么只要赋予x,y,z不同的值就能得到不同的丑数。\n",
    "\n",
    "如果要顺序找出丑数，要知道下面几个特（fei）点（hua）。\n",
    "\n",
    "对于任何丑数p：\n",
    "\n",
    "（一）那么2*p,3*p,5*p都是丑数，并且2*p<3*p<5*p\n",
    "\n",
    "（二）如果p<q, 那么2*p<2*q,3*p<3*q,5*p<5*q"
   ]
  },
  {
   "cell_type": "markdown",
   "metadata": {},
   "source": [
    "#### 2的倍数、3的倍数、5的倍数是没有重叠的，所以把index变量分开，Index对应着当前2、3、5的最大倍数的丑数，再通过min来找下一个丑数"
   ]
  },
  {
   "cell_type": "code",
   "execution_count": null,
   "metadata": {
    "collapsed": true
   },
   "outputs": [],
   "source": []
  }
 ],
 "metadata": {
  "kernelspec": {
   "display_name": "Python 2",
   "language": "python",
   "name": "python2"
  },
  "language_info": {
   "codemirror_mode": {
    "name": "ipython",
    "version": 2
   },
   "file_extension": ".py",
   "mimetype": "text/x-python",
   "name": "python",
   "nbconvert_exporter": "python",
   "pygments_lexer": "ipython2",
   "version": "2.7.13"
  }
 },
 "nbformat": 4,
 "nbformat_minor": 2
}
