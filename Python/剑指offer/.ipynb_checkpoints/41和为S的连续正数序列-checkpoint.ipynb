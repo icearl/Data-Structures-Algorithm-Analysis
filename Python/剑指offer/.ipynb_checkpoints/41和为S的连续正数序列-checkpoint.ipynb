{
 "cells": [
  {
   "cell_type": "markdown",
   "metadata": {},
   "source": [
    "题目描述\n",
    "\n",
    "小明很喜欢数学,有一天他在做数学作业时,要求计算出9~16的和,他马上就写出了正确答案是100。但是他并不满足于此,他在想究竟有多少种连续的正数序列的和为100(至少包括两个数)。没多久,他就得到另一组连续正数和为100的序列:18,19,20,21,22。现在把问题交给你,你能不能也很快的找出所有和为S的连续正数序列? Good Luck!\n",
    "\n",
    "输出描述:\n",
    "\n",
    "输出所有和为S的连续正数序列。序列内按照从小至大的顺序，序列间按照开始数字从小到大的顺序"
   ]
  },
  {
   "cell_type": "code",
   "execution_count": 3,
   "metadata": {
    "collapsed": true
   },
   "outputs": [],
   "source": [
    "# -*- coding:utf-8 -*-\n",
    "class Solution:\n",
    "    def FindContinuousSequence(self, tsum):\n",
    "        if tsum < 3:\n",
    "            return []\n",
    "        small = 1\n",
    "        big = 2\n",
    "        middle = (tsum + 1)/2\n",
    "        curSum = small + big\n",
    "        output = []\n",
    "        while small < middle:\n",
    "            if curSum == tsum:\n",
    "                output.append(range(small, big+1))\n",
    "                big += 1\n",
    "                curSum += big\n",
    "            elif curSum > tsum:\n",
    "                curSum -= small\n",
    "                small += 1\n",
    "            else:\n",
    "                big += 1\n",
    "                curSum += big\n",
    "        return output"
   ]
  },
  {
   "cell_type": "markdown",
   "metadata": {},
   "source": [
    "链接：https://www.nowcoder.com/questionTerminal/c451a3fd84b64cb19485dad758a55ebe\n",
    "来源：牛客网\n",
    "\n",
    "/*\n",
    "用两个数字begin和end分别表示序列的最大值和最小值，\n",
    "首先将begin初始化为1，end初始化为2.\n",
    "如果从begin到end的和大于s，我们就从序列中去掉较小的值(即增大begin),\n",
    "相反，只需要增大end。\n",
    "终止条件为：一直增加begin到(1+sum)/2并且end小于sum为止\n",
    "*/"
   ]
  }
 ],
 "metadata": {
  "kernelspec": {
   "display_name": "Python 3",
   "language": "python",
   "name": "python3"
  },
  "language_info": {
   "codemirror_mode": {
    "name": "ipython",
    "version": 3
   },
   "file_extension": ".py",
   "mimetype": "text/x-python",
   "name": "python",
   "nbconvert_exporter": "python",
   "pygments_lexer": "ipython3",
   "version": "3.6.4"
  }
 },
 "nbformat": 4,
 "nbformat_minor": 2
}
