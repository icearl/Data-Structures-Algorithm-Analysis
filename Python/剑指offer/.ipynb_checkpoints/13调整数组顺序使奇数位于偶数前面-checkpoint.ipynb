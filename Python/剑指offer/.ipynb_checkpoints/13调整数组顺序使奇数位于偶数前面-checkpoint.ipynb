{
 "cells": [
  {
   "cell_type": "markdown",
   "metadata": {},
   "source": [
    "#### 调整数组顺序使奇数位于偶数前面"
   ]
  },
  {
   "cell_type": "code",
   "execution_count": 2,
   "metadata": {
    "collapsed": true
   },
   "outputs": [],
   "source": [
    "class Solution:\n",
    "    def reOrderArray(self, array):\n",
    "        # write code here\n",
    "        lo = []\n",
    "        le = []\n",
    "        for d in array:\n",
    "            if d % 2 == 1:\n",
    "                lo.append(d)\n",
    "            else:\n",
    "                le.append(d)\n",
    "        return lo + le"
   ]
  },
  {
   "cell_type": "markdown",
   "metadata": {},
   "source": [
    "##### 链接：https://www.nowcoder.com/questionTerminal/beb5aa231adc45b2a5dcc5b62c93f593\n",
    "来源：牛客网\n",
    "\n",
    "/**\n",
    " * 1.要想保证原有次序，则只能顺次移动或相邻交换。\n",
    " * 2.i从左向右遍历，找到第一个偶数。\n",
    " * 3.j从i+1开始向后找，直到找到第一个奇数。\n",
    " * 4.将[i,...,j-1]的元素整体后移一位，最后将找到的奇数放入i位置，然后i++。\n",
    " * 5.終止條件：j向後遍歷查找失敗。\n",
    " */"
   ]
  },
  {
   "cell_type": "code",
   "execution_count": null,
   "metadata": {
    "collapsed": true
   },
   "outputs": [],
   "source": []
  }
 ],
 "metadata": {
  "kernelspec": {
   "display_name": "Python 3",
   "language": "python",
   "name": "python3"
  },
  "language_info": {
   "codemirror_mode": {
    "name": "ipython",
    "version": 3
   },
   "file_extension": ".py",
   "mimetype": "text/x-python",
   "name": "python",
   "nbconvert_exporter": "python",
   "pygments_lexer": "ipython3",
   "version": "3.6.4"
  }
 },
 "nbformat": 4,
 "nbformat_minor": 2
}
