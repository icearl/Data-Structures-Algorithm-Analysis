{
 "cells": [
  {
   "cell_type": "markdown",
   "metadata": {},
   "source": [
    "#### 请实现两个函数，分别用来序列化和反序列化二叉树"
   ]
  },
  {
   "cell_type": "code",
   "execution_count": 9,
   "metadata": {
    "collapsed": true
   },
   "outputs": [],
   "source": [
    "# -*- coding:utf-8 -*-\n",
    "# class TreeNode:\n",
    "#     def __init__(self, x):\n",
    "#         self.val = x\n",
    "#         self.left = None\n",
    "#         self.right = None\n",
    "class Solution:\n",
    "    def Serialize(self, root):\n",
    "        # write code here\n",
    "        if root==None:\n",
    "            return \"#\"\n",
    "        return str(root.val)+\",\"+self.Serialize(root.left)+\",\"+self.Serialize(root.right)\n",
    "             \n",
    "    def Deserialize(self, s): #输入字符串，输出头节点\n",
    "        # write code here\n",
    "        root,index=self.deserialize(s.split(\",\"),0)\n",
    "        return root\n",
    "    def deserialize(self,s,index):\n",
    "        if s[index]==\"#\": #遇见逗号\n",
    "            return None,index+1 #函数返回root和index两个值\n",
    "        root=TreeNode(int(s[index])) #定义当前节点的.val\n",
    "        index+=1\n",
    "        root.left,index=self.deserialize(s,index) #定义当前节点的.left,里面的index不用+1（前面加过了）#s始终不变，index每次执行函数向后移一位\n",
    "        root.right,index=self.deserialize(s,index) #定义当前节点的.right\n",
    "        return root,index"
   ]
  },
  {
   "cell_type": "markdown",
   "metadata": {},
   "source": [
    "序列化：根据给的树输出对应的字符串\n",
    "反序列化：根据字符串构建出对应的树"
   ]
  }
 ],
 "metadata": {
  "kernelspec": {
   "display_name": "Python 2",
   "language": "python",
   "name": "python2"
  },
  "language_info": {
   "codemirror_mode": {
    "name": "ipython",
    "version": 2
   },
   "file_extension": ".py",
   "mimetype": "text/x-python",
   "name": "python",
   "nbconvert_exporter": "python",
   "pygments_lexer": "ipython2",
   "version": "2.7.13"
  }
 },
 "nbformat": 4,
 "nbformat_minor": 2
}
