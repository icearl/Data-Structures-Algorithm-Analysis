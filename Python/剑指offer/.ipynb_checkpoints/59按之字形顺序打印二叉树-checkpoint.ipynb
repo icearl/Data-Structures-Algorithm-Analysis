{
 "cells": [
  {
   "cell_type": "markdown",
   "metadata": {},
   "source": [
    "#### 从上到下按层打印二叉树，同一层结点从左至右输出。每一层输出一行。"
   ]
  },
  {
   "cell_type": "code",
   "execution_count": 2,
   "metadata": {
    "collapsed": true
   },
   "outputs": [],
   "source": [
    "# -*- coding:utf-8 -*-\n",
    "# class TreeNode:\n",
    "#     def __init__(self, x):\n",
    "#         self.val = x\n",
    "#         self.left = None\n",
    "#         self.right = None\n",
    "class Solution:\n",
    "    def Print(self, pRoot):\n",
    "        # write code here\n",
    "        root=pRoot\n",
    "        if not root:\n",
    "            return []\n",
    "        level=[root]\n",
    "        result=[]\n",
    "        lefttoright=False #判断奇偶行变量\n",
    "        while level:\n",
    "            curvalues=[] #暂存列表\n",
    "            nextlevel=[]\n",
    "            for i in level:\n",
    "                curvalues.append(i.val)\n",
    "                if i.left:\n",
    "                    nextlevel.append(i.left)\n",
    "                if i.right:\n",
    "                    nextlevel.append(i.right)\n",
    "            if lefttoright:\n",
    "                curvalues.reverse()\n",
    "            if curvalues:\n",
    "                result.append(curvalues)\n",
    "            level=nextlevel\n",
    "            lefttoright=not lefttoright\n",
    "        return result"
   ]
  },
  {
   "cell_type": "markdown",
   "metadata": {},
   "source": [
    "设置一个变量来区别偶数行和奇数行，每次将各行先存储在一个列表中，然后根据奇偶判断变量来决定是否将列表翻转，之后后挂到输出列表中"
   ]
  },
  {
   "cell_type": "code",
   "execution_count": null,
   "metadata": {
    "collapsed": true
   },
   "outputs": [],
   "source": []
  }
 ],
 "metadata": {
  "kernelspec": {
   "display_name": "Python 2",
   "language": "python",
   "name": "python2"
  },
  "language_info": {
   "codemirror_mode": {
    "name": "ipython",
    "version": 2
   },
   "file_extension": ".py",
   "mimetype": "text/x-python",
   "name": "python",
   "nbconvert_exporter": "python",
   "pygments_lexer": "ipython2",
   "version": "2.7.13"
  }
 },
 "nbformat": 4,
 "nbformat_minor": 2
}
