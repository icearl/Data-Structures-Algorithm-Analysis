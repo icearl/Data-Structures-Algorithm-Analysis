{
 "cells": [
  {
   "cell_type": "markdown",
   "metadata": {},
   "source": [
    "#### 一个链表中包含环，请找出该链表的环的入口结点。"
   ]
  },
  {
   "cell_type": "code",
   "execution_count": null,
   "metadata": {
    "collapsed": true
   },
   "outputs": [],
   "source": [
    "# -*- coding:utf-8 -*-\n",
    "# class ListNode:\n",
    "#     def __init__(self, x):\n",
    "#         self.val = x\n",
    "#         self.next = None\n",
    "class Solution:\n",
    "    def EntryNodeOfLoop(self, pHead):\n",
    "        if pHead==None or pHead.next==None or pHead.next.next==None:\n",
    "            return None\n",
    "        low=pHead.next#慢指针每次走一步\n",
    "        fast=pHead.next.next#快指针每次走两步\n",
    "        while low!=fast:\n",
    "            if fast.next==None or fast.next.next==None:\n",
    "                return None\n",
    "            low=low.next\n",
    "            fast=fast.next.next\n",
    "        fast=pHead#当快慢指针相遇之后，将快指针放回至头结点\n",
    "        while low!=fast:#快指针和慢指针每次各走一步\n",
    "            low=low.next\n",
    "            fast=fast.next\n",
    "        return fast #最后相遇点就是环的入口点"
   ]
  },
  {
   "cell_type": "code",
   "execution_count": 1,
   "metadata": {
    "collapsed": true
   },
   "outputs": [],
   "source": [
    "# -*- coding:utf-8 -*-\n",
    "# class ListNode:\n",
    "#     def __init__(self, x):\n",
    "#         self.val = x\n",
    "#         self.next = None\n",
    "class Solution:\n",
    "    def EntryNodeOfLoop(self, pHead):\n",
    "        # write code here\n",
    "        #遍历链表，环的存在，遍历遇见的第一个重复的即为入口节点\n",
    "        tempList = []\n",
    "        p = pHead\n",
    "        while p:\n",
    "            if p in tempList:\n",
    "                return p\n",
    "            else:\n",
    "                tempList.append(p)\n",
    "            p = p.next"
   ]
  }
 ],
 "metadata": {
  "kernelspec": {
   "display_name": "Python 2",
   "language": "python",
   "name": "python2"
  },
  "language_info": {
   "codemirror_mode": {
    "name": "ipython",
    "version": 2
   },
   "file_extension": ".py",
   "mimetype": "text/x-python",
   "name": "python",
   "nbconvert_exporter": "python",
   "pygments_lexer": "ipython2",
   "version": "2.7.13"
  }
 },
 "nbformat": 4,
 "nbformat_minor": 2
}
