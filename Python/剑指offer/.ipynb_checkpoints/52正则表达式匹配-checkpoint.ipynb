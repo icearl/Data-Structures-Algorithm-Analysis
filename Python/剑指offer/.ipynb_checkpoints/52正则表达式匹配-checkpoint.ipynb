{
 "cells": [
  {
   "cell_type": "markdown",
   "metadata": {},
   "source": [
    "#### 请实现一个函数用来匹配包括'.'和'*'的正则表达式。模式中的字符'.'表示任意一个字符，而'*'表示它前面的字符可以出现任意次（包含0次）。 在本题中，匹配是指字符串的所有字符匹配整个模式。例如，字符串\"aaa\"与模式\"a.a\"和\"ab*ac*a\"匹配，但是与\"aa.a\"和\"ab*a\"均不匹配"
   ]
  },
  {
   "cell_type": "code",
   "execution_count": 1,
   "metadata": {
    "collapsed": true
   },
   "outputs": [],
   "source": [
    "# -*- coding:utf-8 -*-\n",
    "class Solution:\n",
    "    # s, pattern都是字符串\n",
    "    def match(self, s, pattern):\n",
    "        # write code here\n",
    "        if (len(s) == 0 and len(pattern) == 0):\n",
    "            return True\n",
    "        if (len(s) > 0 and len(pattern) == 0):\n",
    "            return False\n",
    "        if (len(pattern) > 1 and pattern[1] == '*'):\n",
    "            if (len(s) > 0 and (s[0] == pattern[0] or pattern[0] == '.')):\n",
    "                return (self.match(s, pattern[2:]) or self.match(s[1:], pattern[2:]) or self.match(s[1:], pattern))\n",
    "            else:\n",
    "                return self.match(s, pattern[2:])\n",
    "        if (len(s) > 0 and (pattern[0] == '.' or pattern[0] == s[0])):\n",
    "            return self.match(s[1:], pattern[1:])\n",
    "        return False"
   ]
  },
  {
   "cell_type": "markdown",
   "metadata": {},
   "source": [
    "链接：https://www.nowcoder.com/questionTerminal/45327ae22b7b413ea21df13ee7d6429c\n",
    "来源：牛客网\n",
    "\n",
    "当模式中的第二个字符不是“*”时：\n",
    "\n",
    "\n",
    "\n",
    "1、如果字符串第一个字符和模式中的第一个字符相匹配，那么字符串和模式都后移一个字符，然后匹配剩余的。 \n",
    "\n",
    "2、如果字符串第一个字符和模式中的第一个字符相不匹配，直接返回false。\n",
    "\n",
    "\n",
    "  \n",
    "    \n",
    "  \n",
    "\n",
    "\n",
    "\n",
    "而当模式中的第二个字符是“*”时：\n",
    "\n",
    "\n",
    "如果字符串第一个字符跟模式第一个字符不匹配，则模式后移2个字符，继续匹配。\n",
    "\n",
    "如果字符串第一个字符跟模式第一个字符匹配，可以有3种匹配方式： \n",
    "\n",
    "1、模式后移2字符，相当于x*被忽略； \n",
    "\n",
    "2、字符串后移1字符，模式后移2字符； \n",
    "\n",
    "\n",
    "3、字符串后移1字符，模式不变，即继续匹配字符下一位，因为*可以匹配多位；"
   ]
  },
  {
   "cell_type": "code",
   "execution_count": null,
   "metadata": {
    "collapsed": true
   },
   "outputs": [],
   "source": []
  }
 ],
 "metadata": {
  "kernelspec": {
   "display_name": "Python 2",
   "language": "python",
   "name": "python2"
  },
  "language_info": {
   "codemirror_mode": {
    "name": "ipython",
    "version": 2
   },
   "file_extension": ".py",
   "mimetype": "text/x-python",
   "name": "python",
   "nbconvert_exporter": "python",
   "pygments_lexer": "ipython2",
   "version": "2.7.13"
  }
 },
 "nbformat": 4,
 "nbformat_minor": 2
}
