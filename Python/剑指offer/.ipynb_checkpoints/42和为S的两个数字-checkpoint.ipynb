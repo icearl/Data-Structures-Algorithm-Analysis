{
 "cells": [
  {
   "cell_type": "markdown",
   "metadata": {},
   "source": [
    "题目描述\n",
    "输入一个递增排序的数组和一个数字S，在数组中查找两个数，是的他们的和正好是S，如果有多对数字的和等于S，输出两个数的乘积最小的。\n",
    "输出描述:\n",
    "对应每个测试案例，输出两个数，小的先输出。"
   ]
  },
  {
   "cell_type": "code",
   "execution_count": 5,
   "metadata": {
    "collapsed": true
   },
   "outputs": [],
   "source": [
    "# -*- coding:utf-8 -*-\n",
    "class Solution:\n",
    "    def FindNumbersWithSum(self, array, tsum):\n",
    "        # write code here\n",
    "        ls = []\n",
    "        if not isinstance(array, list): #isinstance(object, class-or-type-or-tuple) -> bool\n",
    "            return ls\n",
    "        for i, v in enumerate(array): #返回i,v i是在arry序列中v对应的index\n",
    "            for v1 in array[i:]:\n",
    "                if (v + v1) == tsum:\n",
    "                    ls.append([v, v1])\n",
    "        if ls:\n",
    "            return ls[0]\n",
    "        else: #如果arry中始终没有两数相加的和为sum\n",
    "            return ls"
   ]
  }
 ],
 "metadata": {
  "kernelspec": {
   "display_name": "Python 2",
   "language": "python",
   "name": "python2"
  },
  "language_info": {
   "codemirror_mode": {
    "name": "ipython",
    "version": 2
   },
   "file_extension": ".py",
   "mimetype": "text/x-python",
   "name": "python",
   "nbconvert_exporter": "python",
   "pygments_lexer": "ipython2",
   "version": "2.7.13"
  }
 },
 "nbformat": 4,
 "nbformat_minor": 2
}
