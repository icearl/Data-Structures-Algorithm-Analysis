{
 "cells": [
  {
   "cell_type": "markdown",
   "metadata": {},
   "source": [
    "#### 数组中有一个数字出现的次数超过数组长度的一半，请找出这个数字。例如输入一个长度为9的数组{1,2,3,2,2,2,5,4,2}。由于数字2在数组中出现了5次，超过数组长度的一半，因此输出2。如果不存在则输出0。"
   ]
  },
  {
   "cell_type": "code",
   "execution_count": 1,
   "metadata": {
    "collapsed": true
   },
   "outputs": [],
   "source": [
    "# 方法一：作弊了，先排序，然后找中位数\n",
    "# -*- coding:utf-8 -*-\n",
    "class Solution:\n",
    "    def MoreThanHalfNum_Solution(self, numbers):\n",
    "        # write code here\n",
    "        numbers.sort()\n",
    "        theone = numbers[len(numbers)/2]\n",
    "        if numbers.count(theone) > len(numbers)/2:\n",
    "            return theone\n",
    "        return  0\n",
    "         "
   ]
  },
  {
   "cell_type": "code",
   "execution_count": null,
   "metadata": {},
   "outputs": [],
   "source": [
    "# 方法二：书上解法二\n",
    "def MoreThanHalfNum_Solution(self, numbers):\n",
    "    # write code here\n",
    "    # 判断非空\n",
    "    if (numbers is None or len(numbers) == 0):\n",
    "        return 0\n",
    "    current = numbers[0]\n",
    "    times = 1\n",
    "    for i in numbers[1:]:\n",
    "        if (i != current):\n",
    "            times -= 1\n",
    "        else:\n",
    "            times += 1\n",
    "        if (times == 0):\n",
    "            current = i\n",
    "            times = 1\n",
    "    # 判断这个次数有没有超过一半\n",
    "    if (times >= 1):\n",
    "        count = 0\n",
    "        for i in numbers:\n",
    "            if (current == i):\n",
    "                count += 1\n",
    "        if (count > len(numbers) // 2):\n",
    "            return current\n",
    "    return 0"
   ]
  },
  {
   "cell_type": "markdown",
   "metadata": {},
   "source": [
    "如果存在这样的数，那么中间的数就是这个数"
   ]
  }
 ],
 "metadata": {
  "kernelspec": {
   "display_name": "Python 3",
   "language": "python",
   "name": "python3"
  },
  "language_info": {
   "codemirror_mode": {
    "name": "ipython",
    "version": 3
   },
   "file_extension": ".py",
   "mimetype": "text/x-python",
   "name": "python",
   "nbconvert_exporter": "python",
   "pygments_lexer": "ipython3",
   "version": "3.6.4"
  }
 },
 "nbformat": 4,
 "nbformat_minor": 2
}
