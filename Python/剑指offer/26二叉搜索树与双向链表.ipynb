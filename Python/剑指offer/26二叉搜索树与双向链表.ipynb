{
 "cells": [
  {
   "cell_type": "markdown",
   "metadata": {},
   "source": [
    "##### 输入一棵二叉搜索树，将该二叉搜索树转换成一个排序的双向链表。要求不能创建任何新的结点，只能调整树中结点指针的指向。"
   ]
  },
  {
   "cell_type": "code",
   "execution_count": 5,
   "metadata": {
    "collapsed": true
   },
   "outputs": [],
   "source": [
    "# -*- coding:utf-8 -*-\n",
    "# class TreeNode:\n",
    "#     def __init__(self, x):\n",
    "#         self.val = x\n",
    "#         self.left = None\n",
    "#         self.right = None\n",
    "class Solution: #按当前节点的左子节点、当前节点、当前节点的右子节点的顺序生成列表\n",
    "    def NodeList(self, pRootOfTree):\n",
    "        if not pRootOfTree:\n",
    "            return []\n",
    "        return self.NodeList(pRootOfTree.left) + [pRootOfTree] + self.NodeList(pRootOfTree.right)\n",
    "    def Convert(self, pRootOfTree):\n",
    "        # write code here\n",
    "        res = self.NodeList(pRootOfTree)\n",
    "        if len(res) == 0:\n",
    "            return None\n",
    "        if len(res) == 1:\n",
    "            return pRootOfTree\n",
    "        res[0].left = None\n",
    "        res[0].right = res[1]\n",
    "        res[-1].left = res[-2]\n",
    "        res[-1].right = None\n",
    "        for i in range(1,len(res)-1):\n",
    "            res[i].left = res[i-1]\n",
    "            res[i].right = res[i+1]\n",
    "        return res[0]"
   ]
  },
  {
   "cell_type": "markdown",
   "metadata": {
    "collapsed": true
   },
   "source": [
    "根据二叉搜索树生成一个列表，然后在列表中定义左右指针\n",
    "\n",
    "二叉搜索树：\n",
    "\n",
    "若任意节点的左子树不空，则左子树上所有节点的值均小于它的根节点的值；\n",
    "\n",
    "若任意节点的右子树不空，则右子树上所有节点的值均大于它的根节点的值；\n",
    "\n",
    "任意节点的左、右子树也分别为二叉查找树；\n",
    "\n",
    "没有键值相等的节点。"
   ]
  }
 ],
 "metadata": {
  "kernelspec": {
   "display_name": "Python 2",
   "language": "python",
   "name": "python2"
  },
  "language_info": {
   "codemirror_mode": {
    "name": "ipython",
    "version": 2
   },
   "file_extension": ".py",
   "mimetype": "text/x-python",
   "name": "python",
   "nbconvert_exporter": "python",
   "pygments_lexer": "ipython2",
   "version": "2.7.13"
  }
 },
 "nbformat": 4,
 "nbformat_minor": 2
}
