{
 "cells": [
  {
   "cell_type": "markdown",
   "metadata": {},
   "source": [
    "#### 一个链表中包含环，请找出该链表的环的入口结点。"
   ]
  },
  {
   "cell_type": "code",
   "execution_count": 1,
   "metadata": {
    "collapsed": true
   },
   "outputs": [],
   "source": [
    "# 没有额外空间复杂度的情况\n",
    "# 分析和思路：http://bookshadow.com/weblog/2015/07/10/leetcode-linked-list-cycle-ii/\n",
    "# -*- coding:utf-8 -*-\n",
    "# class ListNode:\n",
    "#     def __init__(self, x):\n",
    "#         self.val = x\n",
    "#         self.next = None\n",
    "class Solution:\n",
    "    def EntryNodeOfLoop(self, pHead):\n",
    "        if pHead == None or pHead.next == None or pHead.next.next == None:\n",
    "            return None\n",
    "        nil = ListNode(-1)\n",
    "        nil.next= pHead\n",
    "        low = nil.next\n",
    "        fast = nil.next.next\n",
    "        while low != fast:\n",
    "            if fast.next == None or fast.next.next == None:\n",
    "                return None\n",
    "            # 慢指针每次走一步\n",
    "            low = low.next\n",
    "            # 快指针每次走两步\n",
    "            fast = fast.next.next\n",
    "        # 如果题目问的是链表有没有坏，则在这里判断。如果快指针先走到了一个null值，则无环;如果快慢指针相遇了，则有环。\n",
    "        low = nil  # 当快慢指针相遇之后，将快指针放回至头结点\n",
    "        while low != fast:  # 快指针和慢指针每次各走一步\n",
    "            low = low.next\n",
    "            fast = fast.next\n",
    "        return low  # 最后相遇点就是环的入口点"
   ]
  },
  {
   "cell_type": "markdown",
   "metadata": {},
   "source": [
    "我们设链表的无环的部分长度为L1，即有L1个节点，注意，这个L1是包括环的入口节点的。然后让环的长度是L2，这个L2也是包括环的入口节点。这个时候，p1和p2的交点如图所示，交点距离环的入口节点为a（从入口节点沿着行走方向走到交点），即在环的入口节点后面的第a个节点，就是交点，我用红色标记出a。\n",
    "\n",
    "然后我们来考察一下L1，L2，a，以及n（n是走过的步数，不是走过的节点数，p1一步一个节点，p2一步两个节点）的关系。\n",
    "\n",
    "忘记说一点了，我们可以明确的是，p1在进入环后，走了不到一圈就在交点处和p2重合，為什麼肯定没有走完一圈？因为p1在进入环的时候，p2和p1之间的距离（沿着行走方向）至多为 L2-1，不可能超过L2-1，因为环的大小也才只有L2 。p2追赶p1，最多只需要走L2-1步，因为每走一步，p1和p2的相对距离减小1，那么p1最多只走了L2-1步，就是最多只经过了L2-1个节点，不可能走完一圈。\n",
    "\n",
    "现在可以列公式了：\n",
    "\n",
    "L1+a=n                   #1   //n是p1走过的节点数\n",
    "\n",
    "L1+k*L2+a=2*n     #2   //2*n这个是p2走过的节点数，其中的k表示p2可能在环里面走了k圈，k>=1\n",
    "\n",
    "由#2式减去#1式，有：\n",
    "\n",
    "k*L2 = n                   #3\n",
    "\n",
    "同时由#1和#3得到：\n",
    "\n",
    "L1+a = k*L2            #4\n",
    "\n",
    "接着由#4就得到了如下式：\n",
    "\n",
    "L1 = k*L2 - a = (k-1)*L2 + (L2-a)\n",
    "\n",
    "得到这条式子就拨得云开见月明啊有木有，因为(L2-a)表示的是交点与环入口的距离（从交点沿着行走方向到环入口），然后(k-1)是>=0的，因为p2在环中至少绕了一圈，这样我们就发现：L1的长度 = 环长度的整数倍 + 交点与环入口的距离\n",
    "\n",
    "也就是说，p1再走L1步就可以达到环的入口。问题是L1不是已知的，没关系，在表头设置一个p3指针，p3每步前进一个节点。让p1和p3同时走，每次走1步，等p3和p1重合了，就是到了环口的位置了。"
   ]
  },
  {
   "cell_type": "markdown",
   "metadata": {},
   "source": [
    "http://www.cnblogs.com/snake-hand/p/3148328.html"
   ]
  },
  {
   "cell_type": "code",
   "execution_count": 1,
   "metadata": {
    "collapsed": true
   },
   "outputs": [],
   "source": [
    "#有额外空间复杂度的情况，额外开个空间存链表的结构\n",
    "# -*- coding:utf-8 -*-\n",
    "# class ListNode:\n",
    "#     def __init__(self, x):\n",
    "#         self.val = x\n",
    "#         self.next = None\n",
    "class Solution:\n",
    "    def EntryNodeOfLoop(self, pHead):\n",
    "        # write code here\n",
    "        #遍历链表，环的存在，遍历遇见的第一个重复的即为入口节点\n",
    "        tempList = []\n",
    "        p = pHead\n",
    "        while p:\n",
    "            if p in tempList:\n",
    "                return p\n",
    "            else:\n",
    "                tempList.append(p)\n",
    "            p = p.next"
   ]
  }
 ],
 "metadata": {
  "kernelspec": {
   "display_name": "Python 3",
   "language": "python",
   "name": "python3"
  },
  "language_info": {
   "codemirror_mode": {
    "name": "ipython",
    "version": 3
   },
   "file_extension": ".py",
   "mimetype": "text/x-python",
   "name": "python",
   "nbconvert_exporter": "python",
   "pygments_lexer": "ipython3",
   "version": "3.6.4"
  }
 },
 "nbformat": 4,
 "nbformat_minor": 2
}
