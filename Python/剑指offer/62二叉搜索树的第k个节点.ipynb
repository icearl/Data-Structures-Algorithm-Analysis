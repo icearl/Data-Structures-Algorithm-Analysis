{
 "cells": [
  {
   "cell_type": "markdown",
   "metadata": {},
   "source": [
    "#### 给定一颗二叉搜索树，请找出其中的第k大的结点。例如， 5 / \\ 3 7 /\\ /\\ 2 4 6 8 中，按结点数值大小顺序第三个结点的值为4。"
   ]
  },
  {
   "cell_type": "code",
   "execution_count": 6,
   "metadata": {},
   "outputs": [],
   "source": [
    "# -*- coding:utf-8 -*-\n",
    "# class TreeNode:\n",
    "#     def __init__(self, x):\n",
    "#         self.val = x\n",
    "#         self.left = None\n",
    "#         self.right = None\n",
    "class Solution:\n",
    "    # 返回对应节点TreeNode\n",
    "    def KthNode(self, pRoot, k):\n",
    "        # write code here\n",
    "        #第三个节点是4\n",
    "        #前序遍历5324768\n",
    "        #中序遍历2345678\n",
    "        #后序遍历2436875\n",
    "        #所以是中序遍历，左根右\n",
    "        global result\n",
    "        result=[]\n",
    "        self.midnode(pRoot) #根据中序遍历的顺序生成列表存储在result中\n",
    "        if  k<=0 or len(result)<k:\n",
    "            return None\n",
    "        else:\n",
    "            return result[k-1]\n",
    "              \n",
    "    def midnode(self,root): #中序遍历\n",
    "        if not root:\n",
    "            return None\n",
    "        self.midnode(root.left)\n",
    "        result.append(root)\n",
    "        self.midnode(root.right)"
   ]
  },
  {
   "cell_type": "markdown",
   "metadata": {},
   "source": [
    "二叉查找树（英语：Binary Search Tree），也称二叉搜索树、有序二叉树（英语：ordered binary tree），排序二叉树（英语：sorted binary tree），是指一棵空树或者具有下列性质的二叉树：\n",
    "\n",
    "若任意节点的左子树不空，则左子树上所有节点的值均小于它的根节点的值；\n",
    "\n",
    "若任意节点的右子树不空，则右子树上所有节点的值均大于它的根节点的值；\n",
    "\n",
    "任意节点的左、右子树也分别为二叉查找树；\n",
    "\n",
    "没有键值相等的节点。\n",
    "\n",
    "二叉搜索树节点的大小关系从小到大就是中序遍历"
   ]
  },
  {
   "cell_type": "code",
   "execution_count": null,
   "metadata": {
    "collapsed": true
   },
   "outputs": [],
   "source": []
  }
 ],
 "metadata": {
  "kernelspec": {
   "display_name": "Python 2",
   "language": "python",
   "name": "python2"
  },
  "language_info": {
   "codemirror_mode": {
    "name": "ipython",
    "version": 2
   },
   "file_extension": ".py",
   "mimetype": "text/x-python",
   "name": "python",
   "nbconvert_exporter": "python",
   "pygments_lexer": "ipython2",
   "version": "2.7.13"
  }
 },
 "nbformat": 4,
 "nbformat_minor": 2
}
