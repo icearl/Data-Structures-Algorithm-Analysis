{
 "cells": [
  {
   "cell_type": "markdown",
   "metadata": {},
   "source": [
    "##### 输入一颗二叉树和一个整数，打印出二叉树中结点值的和为输入整数的所有路径。路径定义为从树的根结点开始往下一直到叶结点所经过的结点形成一条路径。\n",
    "\n",
    "叶节点的定义是终端节点，即最底层的节点"
   ]
  },
  {
   "cell_type": "code",
   "execution_count": 2,
   "metadata": {
    "collapsed": true
   },
   "outputs": [],
   "source": [
    "# -*- coding:utf-8 -*-\n",
    "# class TreeNode:\n",
    "#     def __init__(self, x):\n",
    "#         self.val = x\n",
    "#         self.left = None\n",
    "#         self.right = None\n",
    "class Solution:\n",
    "    # 返回二维列表，内部每个列表表示找到的路径\n",
    "    def FindPath(self, root, expectNumber):\n",
    "        # write code here\n",
    "        if root is None or not expectNumber:\n",
    "            return []\n",
    "        # 结束条件：如果成立的话此时是最下面的叶节点并且之前的点的和等于expectNumber\n",
    "        if root and root.left is None and root.right is None and root.val == expectNumber: \n",
    "            return [[root.val]]\n",
    "        # 存结果\n",
    "        res = []\n",
    "        #注意这里之后的递归函数的输入的和为减去这次节点的val\n",
    "        left = self.FindPath(root.left, expectNumber-root.val) \n",
    "        right = self.FindPath(root.right, expectNumber-root.val)\n",
    "        for i in left+right:\n",
    "            res.append([root.val]+i)\n",
    "        return res"
   ]
  },
  {
   "cell_type": "markdown",
   "metadata": {},
   "source": [
    "利用递归，逐渐向下查找"
   ]
  }
 ],
 "metadata": {
  "kernelspec": {
   "display_name": "Python 3",
   "language": "python",
   "name": "python3"
  },
  "language_info": {
   "codemirror_mode": {
    "name": "ipython",
    "version": 3
   },
   "file_extension": ".py",
   "mimetype": "text/x-python",
   "name": "python",
   "nbconvert_exporter": "python",
   "pygments_lexer": "ipython3",
   "version": "3.6.4"
  }
 },
 "nbformat": 4,
 "nbformat_minor": 2
}
