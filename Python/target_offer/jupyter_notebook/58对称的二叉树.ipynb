{
 "cells": [
  {
   "cell_type": "markdown",
   "metadata": {},
   "source": [
    "#### 请实现一个函数，用来判断一颗二叉树是不是对称的。注意，如果一个二叉树同此二叉树的镜像是同样的，定义其为对称的。"
   ]
  },
  {
   "cell_type": "code",
   "execution_count": 4,
   "metadata": {
    "collapsed": true
   },
   "outputs": [],
   "source": [
    "# -*- coding:utf-8 -*-\n",
    "# class TreeNode:\n",
    "#     def __init__(self, x):\n",
    "#         self.val = x\n",
    "#         self.left = None\n",
    "#         self.right = None\n",
    "class Solution:\n",
    "    def isSymmetrical1(self,pRoot1,pRoot2):\n",
    "        if pRoot1 == None and pRoot2 == None:\n",
    "            return True\n",
    "        if pRoot1 == None or pRoot2 == None: #两者都为真的情况在上一条过滤掉了\n",
    "            return False\n",
    "        if pRoot1.val != pRoot2.val:\n",
    "            return False\n",
    "         \n",
    "        return self.isSymmetrical1(pRoot1.left,pRoot2.right) and self.isSymmetrical1(pRoot1.right,pRoot2.left) \n",
    "    #左子树的左支与右子树的右支比较 左子树的右支和右子树的左支比较\n",
    "         \n",
    "    def isSymmetrical(self, pRoot):\n",
    "        # write code here\n",
    "        return self.isSymmetrical1(pRoot,pRoot)"
   ]
  }
 ],
 "metadata": {
  "kernelspec": {
   "display_name": "Python 3",
   "language": "python",
   "name": "python3"
  },
  "language_info": {
   "codemirror_mode": {
    "name": "ipython",
    "version": 3
   },
   "file_extension": ".py",
   "mimetype": "text/x-python",
   "name": "python",
   "nbconvert_exporter": "python",
   "pygments_lexer": "ipython3",
   "version": "3.6.4"
  }
 },
 "nbformat": 4,
 "nbformat_minor": 2
}
