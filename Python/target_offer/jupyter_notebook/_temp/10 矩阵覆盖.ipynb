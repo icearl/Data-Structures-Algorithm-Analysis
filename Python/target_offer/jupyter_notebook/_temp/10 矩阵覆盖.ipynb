{
 "cells": [
  {
   "cell_type": "markdown",
   "metadata": {},
   "source": [
    "#### 我们可以用2^1的小矩形横着或者竖着去覆盖更大的矩形。请问用n个2^1的小矩形无重叠地覆盖一个2*n的大矩形，总共有多少种方法？"
   ]
  },
  {
   "cell_type": "code",
   "execution_count": null,
   "metadata": {
    "collapsed": true
   },
   "outputs": [],
   "source": [
    "# -*- coding:utf-8 -*-\n",
    "class Solution:\n",
    "    def rectCover(self, number):\n",
    "        # write code here\n",
    "        a=[0, 1, 2]\n",
    "        if number <=0:\n",
    "            return 0\n",
    "        elif number ==1:\n",
    "            return 1\n",
    "        elif number ==2:\n",
    "            return 2\n",
    "        else:\n",
    "            for j in range(3, number):\n",
    "                a.append(a[j-2]+a[j-1])\n",
    "        return a[j]"
   ]
  },
  {
   "cell_type": "markdown",
   "metadata": {},
   "source": [
    "#### 链接：https://www.nowcoder.com/questionTerminal/72a5a919508a4251859fb2cfb987a0e6\n",
    "依旧是斐波那契数列 \n",
    "2*n的大矩形（两行n列），和n个2*1的小矩形（两行1列），其中target*2为大矩阵的大小 ，有以下几种情形： \n",
    "\n",
    "1.target <= 0 大矩形为<= 2*0,直接return 1； \n",
    "\n",
    "2.target = 1大矩形为2*1，只有一种摆放方法，return1； \n",
    "\n",
    "3.target = 2 大矩形为2*2，有两种摆放方法，return2； \n",
    "\n",
    "4.target = n 分为两步考虑： \n",
    "\n",
    "1）最后摆放的是一块 2 *1 的小矩阵，则摆放方法总共为f(target - 1)  \n",
    "2）最后摆放的是一块1 *2的小矩阵，则摆放方法总共为f(target-2) \n",
    "因为，摆放了一块1*2的小矩阵，对应下方的1*2的位置的摆放方法也就确定了，所以为f(targte-2) \n",
    "\n",
    "        \n",
    "        \n",
    "        \n",
    "        \n",
    "    \n",
    "  "
   ]
  },
  {
   "cell_type": "code",
   "execution_count": null,
   "metadata": {
    "collapsed": true
   },
   "outputs": [],
   "source": [
    "class Solution:\n",
    "    def rectCover(self,number):\n",
    "        a=[0,1,2]\n",
    "        if number <= 0:\n",
    "            return 0\n",
    "        if number == 1:\n",
    "            return 1\n",
    "        if number == 2:\n",
    "            return 2\n",
    "        for "
   ]
  }
 ],
 "metadata": {
  "kernelspec": {
   "display_name": "Python 2",
   "language": "python",
   "name": "python2"
  },
  "language_info": {
   "codemirror_mode": {
    "name": "ipython",
    "version": 2
   },
   "file_extension": ".py",
   "mimetype": "text/x-python",
   "name": "python",
   "nbconvert_exporter": "python",
   "pygments_lexer": "ipython2",
   "version": "2.7.13"
  }
 },
 "nbformat": 4,
 "nbformat_minor": 2
}
