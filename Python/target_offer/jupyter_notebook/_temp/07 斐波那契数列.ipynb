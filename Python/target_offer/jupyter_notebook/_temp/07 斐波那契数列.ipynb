{
 "cells": [
  {
   "cell_type": "markdown",
   "metadata": {},
   "source": [
    "#### 大家都知道斐波那契数列(第三个数等于前两个数相加)，现在要求输入一个整数n，请你输出斐波那契数列的第n项。n<=39"
   ]
  },
  {
   "cell_type": "code",
   "execution_count": 1,
   "metadata": {
    "collapsed": true
   },
   "outputs": [],
   "source": [
    "# -*- coding:utf-8 -*-\n",
    "class Solution:\n",
    "    def Fibonacci(self, n):\n",
    "        a = [0, 1, 1]\n",
    "        if n < 3:\n",
    "            return a[n]\n",
    "        for i in range(3, n+1):\n",
    "            a.append(a[i-1]+a[i-2])\n",
    "        return a[n]"
   ]
  },
  {
   "cell_type": "code",
   "execution_count": null,
   "metadata": {
    "collapsed": true
   },
   "outputs": [],
   "source": [
    "class Solution:\n",
    "    def F(self,n):\n",
    "        a = [0,1,1]\n",
    "        if n<3:\n",
    "            return a[n]\n",
    "        for i in range(3,n+1):\n",
    "            a.append(a[])"
   ]
  }
 ],
 "metadata": {
  "kernelspec": {
   "display_name": "Python 2",
   "language": "python",
   "name": "python2"
  },
  "language_info": {
   "codemirror_mode": {
    "name": "ipython",
    "version": 2
   },
   "file_extension": ".py",
   "mimetype": "text/x-python",
   "name": "python",
   "nbconvert_exporter": "python",
   "pygments_lexer": "ipython2",
   "version": "2.7.13"
  }
 },
 "nbformat": 4,
 "nbformat_minor": 2
}
