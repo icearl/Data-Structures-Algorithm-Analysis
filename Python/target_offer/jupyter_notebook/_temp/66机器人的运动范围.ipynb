{
 "cells": [
  {
   "cell_type": "markdown",
   "metadata": {},
   "source": [
    "####  地上有一个m行和n列的方格。一个机器人从坐标0,0的格子开始移动，每一次只能向左，右，上，下四个方向移动一格，但是不能进入行坐标和列坐标的数位之和大于k的格子。 例如，当k为18时，机器人能够进入方格（35,37），因为3+5+3+7 = 18。但是，它不能进入方格（35,38），因为3+5+3+8 = 19。请问该机器人能够达到多少个格子？"
   ]
  },
  {
   "cell_type": "code",
   "execution_count": 6,
   "metadata": {
    "collapsed": true
   },
   "outputs": [],
   "source": [
    "# -*- coding:utf-8 -*-\n",
    "class Solution:\n",
    "    def movingCount(self, threshold, rows, cols):\n",
    "        # write code here     \n",
    "        global dictionary #用字典类型存储每个格对应的值 0/1\n",
    "        dictionary={}\n",
    "        return self.jishu(0,0,threshold, rows, cols)\n",
    "    def jishu(self,row,col,thresold,rows,cols):\n",
    "        if row/10+row%10+col/10+col%10>thresold:\n",
    "            return 0\n",
    "        if row<0 or row >=rows or col<0 or col >=cols :\n",
    "            return 0\n",
    "        if dictionary.get((row,col)): #从存储空间中找这个点时候之前走过\n",
    "            return 0\n",
    "        else:\n",
    "            dictionary[(row,col)]=1 \n",
    "            return 1+self.jishu(row+1,col,thresold,rows,cols)+self.jishu(row-1,col,thresold,rows,cols)+self.jishu(row,col+1,thresold,rows,cols)+self.jishu(row,col-1,thresold,rows,cols)\n"
   ]
  },
  {
   "cell_type": "markdown",
   "metadata": {},
   "source": [
    "链接：https://www.nowcoder.com/questionTerminal/6e5207314b5241fb83f2329e89fdecc8\n",
    "来源：牛客网\n",
    "\n",
    "核心思路：\n",
    "\n",
    "\n",
    "   1.从(0,0)开始走，每成功走一步标记当前位置为true,然后从当前位置往四个方向探索，\n",
    "\n",
    "\n",
    "   返回1 + 4 个方向的探索值之和。\n",
    "\n",
    "\n",
    "   2.探索时，判断当前节点是否可达的标准为：\n",
    "\n",
    "\n",
    "   1）当前节点在矩阵内；\n",
    "\n",
    "\n",
    "   2）当前节点未被访问过；\n",
    "\n",
    "\n",
    "   3）当前节点满足limit限制。"
   ]
  },
  {
   "cell_type": "code",
   "execution_count": null,
   "metadata": {
    "collapsed": true
   },
   "outputs": [],
   "source": []
  }
 ],
 "metadata": {
  "kernelspec": {
   "display_name": "Python 2",
   "language": "python",
   "name": "python2"
  },
  "language_info": {
   "codemirror_mode": {
    "name": "ipython",
    "version": 2
   },
   "file_extension": ".py",
   "mimetype": "text/x-python",
   "name": "python",
   "nbconvert_exporter": "python",
   "pygments_lexer": "ipython2",
   "version": "2.7.13"
  }
 },
 "nbformat": 4,
 "nbformat_minor": 2
}
