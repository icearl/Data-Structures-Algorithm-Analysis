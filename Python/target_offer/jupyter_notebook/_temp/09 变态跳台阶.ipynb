{
 "cells": [
  {
   "cell_type": "markdown",
   "metadata": {},
   "source": [
    "#### 一只青蛙一次可以跳上1级台阶，也可以跳上2级……它也可以跳上n级。求该青蛙跳上一个n级的台阶总共有多少种跳法。"
   ]
  },
  {
   "cell_type": "code",
   "execution_count": null,
   "metadata": {
    "collapsed": true
   },
   "outputs": [],
   "source": [
    "# -*- coding:utf-8 -*-\n",
    "class Solution:\n",
    "    def jumpFloorII(self, number):\n",
    "        # write code here\n",
    "        a = [1, 1]\n",
    "        if number == 0:\n",
    "            return 1\n",
    "        elif number == 1:\n",
    "            return 1\n",
    "        else:\n",
    "            for i in range(2, number+1):\n",
    "                a.append(2 * a[i-1])\n",
    "        return a[number]"
   ]
  },
  {
   "cell_type": "markdown",
   "metadata": {},
   "source": [
    "#### 关于本题，前提是n个台阶会有一次n阶的跳法。分析如下: \n",
    "  f(1) = f(1-1) = 1 \n",
    "  f(2) = f(2-1) + f(2-2)         //f(2-2) 表示2阶一次跳2阶的次数。 \n",
    "  f(3) = f(3-1) + f(3-2) + f(3-3)  \n",
    "  ... \n",
    "  f(n) = f(n-1) + f(n-2) + f(n-3) + ... + f(n-(n-1)) + f(n-n)  \n",
    "    \n",
    "  说明：  \n",
    "  1）这里的f(n) 代表的是n个台阶有一次1,2,...n阶的 跳法数。 \n",
    "  2）n = 1时，只有1种跳法，f(1) = 1 \n",
    "  3) n = 2时，会有两个跳得方式，一次1阶或者2阶，这回归到了问题（1） ，f(2) = f(2-1) + f(2-2)  \n",
    "  4) n = 3时，会有三种跳得方式，1阶、2阶、3阶， \n",
    "\n",
    "\n",
    "      那么就是第一次跳出1阶后面剩下：f(3-1);第一次跳出2阶，剩下f(3-2)；第一次3阶，那么剩下f(3-3) \n",
    "\n",
    "      因此结论是f(3) = f(3-1)+f(3-2)+f(3-3) \n",
    "  5) n = n时，会有n中跳的方式，1阶、2阶...n阶，得出结论： \n",
    "\n",
    "      f(n) = f(n-1)+f(n-2)+...+f(n-(n-1)) + f(n-n) =>\n",
    "  f(0) + f(1) + f(2) + f(3) + ... + f(n-1) \n",
    "\n",
    "      \n",
    "\n",
    "  6) 由以上已经是一种结论，但是为了简单，我们可以继续简化： \n",
    "\n",
    "      f(n-1) = f(0) + f(1)+f(2)+f(3) + ... + f((n-1)-1) =\n",
    "  f(0) + f(1) + f(2) + f(3) + ... + f(n-2) \n",
    "\n",
    "      f(n) = f(0) + f(1) + f(2) + f(3) + ... + f(n-2) +\n",
    "  f(n-1) = f(n-1) + f(n-1) \n",
    "\n",
    "      可以得出： \n",
    "\n",
    "      f(n) = 2*f(n-1) \n",
    "\n",
    "      \n",
    "\n",
    "  7) 得出最终结论,在n阶台阶，一次有1、2、...n阶的跳的方式时，总得跳法为： \n",
    "\n",
    "                | 1       ,(n=0 )  \n",
    "      f(n) =    | 1       ,(n=1 ) \n",
    "                | 2*f(n-1),(n>=2)\n",
    "  "
   ]
  },
  {
   "cell_type": "code",
   "execution_count": null,
   "metadata": {
    "collapsed": true
   },
   "outputs": [],
   "source": []
  }
 ],
 "metadata": {
  "kernelspec": {
   "display_name": "Python 2",
   "language": "python",
   "name": "python2"
  },
  "language_info": {
   "codemirror_mode": {
    "name": "ipython",
    "version": 2
   },
   "file_extension": ".py",
   "mimetype": "text/x-python",
   "name": "python",
   "nbconvert_exporter": "python",
   "pygments_lexer": "ipython2",
   "version": "2.7.13"
  }
 },
 "nbformat": 4,
 "nbformat_minor": 2
}
